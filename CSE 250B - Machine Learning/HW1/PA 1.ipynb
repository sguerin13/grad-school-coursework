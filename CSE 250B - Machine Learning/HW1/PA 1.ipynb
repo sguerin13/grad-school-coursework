{
 "cells": [
  {
   "cell_type": "code",
   "execution_count": 31,
   "metadata": {},
   "outputs": [],
   "source": [
    "import sklearn\n",
    "import numpy as np\n",
    "import matplotlib.pyplot as plt\n",
    "from torchvision.datasets import MNIST\n",
    "from sklearn.cluster import KMeans\n",
    "from sklearn.neighbors import NearestNeighbors,KDTree,KNeighborsClassifier"
   ]
  },
  {
   "cell_type": "code",
   "execution_count": 32,
   "metadata": {},
   "outputs": [
    {
     "name": "stderr",
     "output_type": "stream",
     "text": [
      "C:\\Users\\Steve\\Anaconda2\\envs\\Conda36\\lib\\site-packages\\torchvision\\datasets\\mnist.py:53: UserWarning: train_data has been renamed data\n",
      "  warnings.warn(\"train_data has been renamed data\")\n",
      "C:\\Users\\Steve\\Anaconda2\\envs\\Conda36\\lib\\site-packages\\torchvision\\datasets\\mnist.py:43: UserWarning: train_labels has been renamed targets\n",
      "  warnings.warn(\"train_labels has been renamed targets\")\n"
     ]
    }
   ],
   "source": [
    "# Load the MNIST dataset\n",
    "mnist = MNIST('.', download=True)\n",
    "data = mnist.train_data.numpy()\n",
    "data_vec = data.reshape((-1,784))\n",
    "labels = mnist.train_labels.numpy()\n",
    "\n",
    "mnist = MNIST('.',download = True,train= False)\n",
    "test_data = mnist.data.numpy()\n",
    "test_data_vec = test_data.reshape((-1,784))\n",
    "test_labels = mnist.targets.numpy()\n"
   ]
  },
  {
   "cell_type": "code",
   "execution_count": 33,
   "metadata": {},
   "outputs": [],
   "source": [
    "# load numpy objects\n",
    "\n",
    "eigenvectors = np.load('eigen_basis.npy')\n",
    "\n",
    "\n",
    "# project data to new basis\n",
    "\n",
    "data_vec_eig = data_vec@eigenvectors\n",
    "test_vec_eig = test_data_vec@eigenvectors"
   ]
  },
  {
   "cell_type": "code",
   "execution_count": 34,
   "metadata": {},
   "outputs": [
    {
     "data": {
      "text/plain": [
       "(784, 330)"
      ]
     },
     "execution_count": 34,
     "metadata": {},
     "output_type": "execute_result"
    }
   ],
   "source": [
    "eigenvectors.shape"
   ]
  },
  {
   "cell_type": "code",
   "execution_count": 35,
   "metadata": {},
   "outputs": [],
   "source": [
    "# K_means Approach\n",
    "\n",
    "# get all of the label indices\n",
    "x = [data_vec_eig[np.where(labels ==i)] for i in range(10)] # sorted sample data\n",
    "y = [labels[np.where(labels==i)] for i in range(10)]    # sorted target data\n"
   ]
  },
  {
   "cell_type": "code",
   "execution_count": null,
   "metadata": {},
   "outputs": [],
   "source": []
  },
  {
   "cell_type": "code",
   "execution_count": 36,
   "metadata": {},
   "outputs": [],
   "source": [
    "# #### classes ##### \n",
    "# for i in range(10):\n",
    "#     print(len(y[i]))"
   ]
  },
  {
   "cell_type": "markdown",
   "metadata": {},
   "source": [
    "#### Function Definitions ####"
   ]
  },
  {
   "cell_type": "code",
   "execution_count": 37,
   "metadata": {},
   "outputs": [],
   "source": [
    "# define a k-means clustering function \n",
    "\n",
    "def create_clusters(per_class,training_data):\n",
    "    '''\n",
    "    - feeds in the number of samples per class and returns the cluster centers for each class\n",
    "    \n",
    "    '''\n",
    "    cluster_centers = np.zeros((10,per_class,330))\n",
    "    for i in range(10):\n",
    "        kmc = KMeans(n_clusters = per_class)\n",
    "        clusters = kmc.fit(training_data[i])\n",
    "        cluster_centers[i,:,:] = clusters.cluster_centers_\n",
    "    #print('clusters created')\n",
    "    return cluster_centers"
   ]
  },
  {
   "cell_type": "code",
   "execution_count": 38,
   "metadata": {},
   "outputs": [],
   "source": [
    "\n",
    "def cluster_neighbors(clusters,per_class,lf_size):\n",
    "    \n",
    "    # build out the KNN prototype from the K-means clusters, returns KNN object fitted to the data\n",
    "    \n",
    "    for i in range(10):\n",
    "        if i == 0:\n",
    "            cluster_samples = clusters[i,:,:]\n",
    "            cluster_targets = np.ones((per_class,))*0\n",
    "        else:\n",
    "            cluster_samples = np.vstack((cluster_samples,clusters[i,:,:]))\n",
    "            cluster_targets = np.hstack((cluster_targets,np.ones((per_class,))*i))\n",
    "\n",
    "    cluster_neigh = KNeighborsClassifier(n_neighbors = 1,leaf_size = lf_size)\n",
    "    cluster_neigh.fit(cluster_samples,cluster_targets)\n",
    "    #print('cluster neighbors complete')\n",
    "    return cluster_neigh\n"
   ]
  },
  {
   "cell_type": "code",
   "execution_count": 39,
   "metadata": {},
   "outputs": [],
   "source": [
    "def uniform_neighbors(n_samples,lf_size,training_data,training_targets):\n",
    "    # generates knn prototype from random sampling returns KNN object fitted to the data\n",
    "    rand_indices = np.random.randint(low = 0,high = 60000,size = n_samples) \n",
    "    uniform_samples = training_data[rand_indices]\n",
    "    uniform_targets = training_targets[rand_indices]\n",
    "    \n",
    "    unif_neigh = KNeighborsClassifier(n_neighbors = 1,leaf_size = lf_size)\n",
    "    unif_neigh.fit(uniform_samples,uniform_targets)\n",
    "    #print('uniform neighbors complete')\n",
    "    return unif_neigh\n",
    "    "
   ]
  },
  {
   "cell_type": "code",
   "execution_count": 40,
   "metadata": {},
   "outputs": [],
   "source": [
    "def benchmark(n_samples,lf_size,training_data,training_targets,test_data,test_targets,cluster_x):\n",
    "    \n",
    "    # k-means clusters\n",
    "    samples_per_class = int(n_samples/10)\n",
    "    clust = create_clusters(samples_per_class,cluster_x)\n",
    "    clust_neigh = cluster_neighbors(clust,samples_per_class,lf_size)\n",
    "    \n",
    "    # uniform neighbors\n",
    "    uni_neigh = uniform_neighbors(n_samples,lf_size,training_data,training_targets)\n",
    "    \n",
    "    #compare responses\n",
    "    cl_score = clust_neigh.score(test_data,test_targets)\n",
    "    un_score = uni_neigh.score(test_data,test_targets)\n",
    "    \n",
    "    #print(n_samples,cl_score,un_score)\n",
    "    return cl_score,un_score\n",
    "    \n",
    "    \n"
   ]
  },
  {
   "cell_type": "code",
   "execution_count": 41,
   "metadata": {},
   "outputs": [],
   "source": [
    "def main(n_samples,lf_size,training_data,training_targets,test_data,test_targets,cluster_x,n_iter):\n",
    "    sample_points = n_samples\n",
    "    scores = []\n",
    "    j = 0\n",
    "    for k in n_samples:\n",
    "        print(k)\n",
    "        scores.append([])\n",
    "        for i in range(n_iter):\n",
    "            print('iteration',i)\n",
    "            score = benchmark(k,lf_size,training_data,training_targets,test_data,test_targets,cluster_x)\n",
    "            scores[j].extend([score])\n",
    "        j+=1\n",
    "    \n",
    "    return scores"
   ]
  },
  {
   "cell_type": "code",
   "execution_count": 42,
   "metadata": {},
   "outputs": [
    {
     "name": "stdout",
     "output_type": "stream",
     "text": [
      "10000\n",
      "iteration 0\n",
      "iteration 1\n",
      "iteration 2\n",
      "iteration 3\n",
      "iteration 4\n",
      "iteration 5\n",
      "iteration 6\n",
      "iteration 7\n",
      "iteration 8\n",
      "iteration 9\n"
     ]
    }
   ],
   "source": [
    "scores = main([10000],20,data_vec_eig,labels,test_vec_eig,test_labels,x,10)"
   ]
  },
  {
   "cell_type": "code",
   "execution_count": 43,
   "metadata": {},
   "outputs": [],
   "source": [
    "# save scores as a numpy file\n",
    "results = np.zeros((6,10,2))\n",
    "for i in range(len(scores)):\n",
    "    results[i,:,:] = scores[i]"
   ]
  },
  {
   "cell_type": "code",
   "execution_count": 44,
   "metadata": {},
   "outputs": [],
   "source": [
    "np.save('results_as_10.npy',results)"
   ]
  },
  {
   "cell_type": "code",
   "execution_count": 45,
   "metadata": {},
   "outputs": [],
   "source": [
    "results = np.load('results_minus_10.npy')\n",
    "results2  = np.load('results_as_10.npy')"
   ]
  },
  {
   "cell_type": "code",
   "execution_count": 54,
   "metadata": {},
   "outputs": [],
   "source": [
    "results2 = np.array([results2])"
   ]
  },
  {
   "cell_type": "code",
   "execution_count": 48,
   "metadata": {},
   "outputs": [
    {
     "data": {
      "text/plain": [
       "array([[0.9682, 0.9478],\n",
       "       [0.9694, 0.9483],\n",
       "       [0.9704, 0.948 ],\n",
       "       [0.9694, 0.9496],\n",
       "       [0.9685, 0.9468],\n",
       "       [0.9695, 0.9469],\n",
       "       [0.9686, 0.9461],\n",
       "       [0.9688, 0.9456],\n",
       "       [0.9695, 0.9472],\n",
       "       [0.9688, 0.9485]])"
      ]
     },
     "execution_count": 48,
     "metadata": {},
     "output_type": "execute_result"
    }
   ],
   "source": []
  },
  {
   "cell_type": "code",
   "execution_count": 55,
   "metadata": {},
   "outputs": [
    {
     "data": {
      "text/plain": [
       "((6, 10, 2), (1, 10, 2))"
      ]
     },
     "execution_count": 55,
     "metadata": {},
     "output_type": "execute_result"
    }
   ],
   "source": [
    "results.shape,results2.shape"
   ]
  },
  {
   "cell_type": "code",
   "execution_count": 57,
   "metadata": {},
   "outputs": [],
   "source": [
    "results = np.vstack((results,results2))"
   ]
  },
  {
   "cell_type": "code",
   "execution_count": 59,
   "metadata": {},
   "outputs": [
    {
     "data": {
      "text/plain": [
       "(7, 10, 2)"
      ]
     },
     "execution_count": 59,
     "metadata": {},
     "output_type": "execute_result"
    }
   ],
   "source": [
    "results.shape"
   ]
  },
  {
   "cell_type": "code",
   "execution_count": 64,
   "metadata": {},
   "outputs": [],
   "source": [
    "np.save('results.npy',results)"
   ]
  },
  {
   "cell_type": "markdown",
   "metadata": {},
   "source": [
    "#### Error Visualization and Comparison"
   ]
  },
  {
   "cell_type": "code",
   "execution_count": null,
   "metadata": {},
   "outputs": [],
   "source": []
  },
  {
   "cell_type": "code",
   "execution_count": 63,
   "metadata": {},
   "outputs": [
    {
     "name": "stdout",
     "output_type": "stream",
     "text": [
      "10000\n",
      "7\n"
     ]
    },
    {
     "data": {
      "image/png": "[encoded data removed]",
      "text/plain": [
       "<Figure size 720x504 with 1 Axes>"
      ]
     },
     "metadata": {
      "needs_background": "light"
     },
     "output_type": "display_data"
    }
   ],
   "source": [
    "#load variables\n",
    "sample_list = [100,250,500,1000,2000,5000,10000]\n",
    "x = np.arange(len(sample_list)) \n",
    "results = results\n",
    "fig = plt.figure(figsize = (10,7))\n",
    "ax = fig.add_axes([1,1,1,1])\n",
    "\n",
    "proto_avg = []\n",
    "uni_avg = []\n",
    "proto_std = []\n",
    "uni_std = []\n",
    "\n",
    "for i in range(len(sample_list)):\n",
    "    \n",
    "    proto_avg.extend([np.mean(results[i,:,0])])\n",
    "    proto_std.extend([np.std( results[i,:,0])])\n",
    "    uni_avg.extend([np.mean(results[i,:,1])])\n",
    "    uni_std.extend([np.std(results[i,:,1])])\n",
    "    \n",
    "    \n",
    "plt.bar(x-.15,proto_avg,width = .3,color = 'blue',label = 'K-Means')\n",
    "plt.bar(x+.15,uni_avg,width = .3,color = 'orange',label = 'Uniform')\n",
    "\n",
    "ax.set_xticklabels([0,100,250,500,1000,2000,5000,10000])  \n",
    "\n",
    "# avgs\n",
    "ax.legend(['K-Means','Uniform'],loc = 'upper left')\n",
    "[ax.text(x[i]+.02,proto_avg[i]-.01, str(np.round(proto_avg[i],4))) for i in range(len(sample_list))]\n",
    "[ax.text(x[i]+.30,uni_avg[i]-.01, str(np.round(uni_avg[i],4))) for i in range(len(sample_list))]\n",
    "\n",
    "\n",
    "# std. dev\n",
    "ax.errorbar(x-.15, proto_avg, yerr=proto_std,fmt = '|', ecolor='orangered',\n",
    "            color='orangered', capsize=4)\n",
    "\n",
    "ax.errorbar(x+.15, uni_avg, yerr=uni_std,fmt = '|', ecolor='orangered',\n",
    "            color='orangered', capsize=4)\n",
    "\n",
    "# [ax.text(x[i]-.15,proto_avg[i]+.01, str(np.round(proto_std[i],4))) for i in range(len(sample_list))]\n",
    "# [ax.text(x[i]+.15,uni_avg[i]+.01, str(np.round(uni_std[i],4))) for i in range(len(sample_list))]\n",
    "\n",
    "\n",
    "ax.set_ylim([.65,1])\n",
    "plt.xlabel('Number of Samples')\n",
    "plt.ylabel('Accuracy')\n",
    "\n",
    "print(sample_list[i])\n",
    "#     print(np.round(proto_avg_acc,4),proto_avg_std)\n",
    "print(len(sample_list))\n",
    "plt.show()"
   ]
  },
  {
   "cell_type": "code",
   "execution_count": 65,
   "metadata": {},
   "outputs": [],
   "source": [
    "import pandas as pd\n",
    "delta = [l - k for l,k in zip(proto_avg,uni_avg)]"
   ]
  },
  {
   "cell_type": "code",
   "execution_count": 66,
   "metadata": {},
   "outputs": [
    {
     "data": {
      "text/plain": [
       "[0.21696999999999989,\n",
       " 0.14146000000000014,\n",
       " 0.10023999999999977,\n",
       " 0.07311000000000001,\n",
       " 0.05206999999999995,\n",
       " 0.03229000000000015,\n",
       " 0.021630000000000038]"
      ]
     },
     "execution_count": 66,
     "metadata": {},
     "output_type": "execute_result"
    }
   ],
   "source": [
    "delta"
   ]
  },
  {
   "cell_type": "code",
   "execution_count": 67,
   "metadata": {},
   "outputs": [
    {
     "data": {
      "text/html": [
       "<div>\n",
       "<style scoped>\n",
       "    .dataframe tbody tr th:only-of-type {\n",
       "        vertical-align: middle;\n",
       "    }\n",
       "\n",
       "    .dataframe tbody tr th {\n",
       "        vertical-align: top;\n",
       "    }\n",
       "\n",
       "    .dataframe thead th {\n",
       "        text-align: right;\n",
       "    }\n",
       "</style>\n",
       "<table border=\"1\" class=\"dataframe\">\n",
       "  <thead>\n",
       "    <tr style=\"text-align: right;\">\n",
       "      <th></th>\n",
       "      <th>K-Means Accuracy</th>\n",
       "      <th>K-Means Std. Dev</th>\n",
       "      <th>Uniform Accuracy</th>\n",
       "      <th>Uniform Std. Dev</th>\n",
       "      <th>Accuracy Delta</th>\n",
       "    </tr>\n",
       "    <tr>\n",
       "      <th>Number of Samples</th>\n",
       "      <th></th>\n",
       "      <th></th>\n",
       "      <th></th>\n",
       "      <th></th>\n",
       "      <th></th>\n",
       "    </tr>\n",
       "  </thead>\n",
       "  <tbody>\n",
       "    <tr>\n",
       "      <th>100</th>\n",
       "      <td>0.92457</td>\n",
       "      <td>0.001194</td>\n",
       "      <td>0.70760</td>\n",
       "      <td>0.014407</td>\n",
       "      <td>0.21697</td>\n",
       "    </tr>\n",
       "    <tr>\n",
       "      <th>250</th>\n",
       "      <td>0.94200</td>\n",
       "      <td>0.001059</td>\n",
       "      <td>0.80054</td>\n",
       "      <td>0.007568</td>\n",
       "      <td>0.14146</td>\n",
       "    </tr>\n",
       "    <tr>\n",
       "      <th>500</th>\n",
       "      <td>0.95157</td>\n",
       "      <td>0.001147</td>\n",
       "      <td>0.85133</td>\n",
       "      <td>0.006486</td>\n",
       "      <td>0.10024</td>\n",
       "    </tr>\n",
       "    <tr>\n",
       "      <th>1000</th>\n",
       "      <td>0.95827</td>\n",
       "      <td>0.001336</td>\n",
       "      <td>0.88516</td>\n",
       "      <td>0.003811</td>\n",
       "      <td>0.07311</td>\n",
       "    </tr>\n",
       "    <tr>\n",
       "      <th>2500</th>\n",
       "      <td>0.96312</td>\n",
       "      <td>0.001186</td>\n",
       "      <td>0.91105</td>\n",
       "      <td>0.002230</td>\n",
       "      <td>0.05207</td>\n",
       "    </tr>\n",
       "    <tr>\n",
       "      <th>5000</th>\n",
       "      <td>0.96786</td>\n",
       "      <td>0.001205</td>\n",
       "      <td>0.93557</td>\n",
       "      <td>0.001456</td>\n",
       "      <td>0.03229</td>\n",
       "    </tr>\n",
       "    <tr>\n",
       "      <th>10000</th>\n",
       "      <td>0.96911</td>\n",
       "      <td>0.000616</td>\n",
       "      <td>0.94748</td>\n",
       "      <td>0.001136</td>\n",
       "      <td>0.02163</td>\n",
       "    </tr>\n",
       "  </tbody>\n",
       "</table>\n",
       "</div>"
      ],
      "text/plain": [
       "                   K-Means Accuracy  K-Means Std. Dev  Uniform Accuracy  \\\n",
       "Number of Samples                                                         \n",
       "100                         0.92457          0.001194           0.70760   \n",
       "250                         0.94200          0.001059           0.80054   \n",
       "500                         0.95157          0.001147           0.85133   \n",
       "1000                        0.95827          0.001336           0.88516   \n",
       "2500                        0.96312          0.001186           0.91105   \n",
       "5000                        0.96786          0.001205           0.93557   \n",
       "10000                       0.96911          0.000616           0.94748   \n",
       "\n",
       "                   Uniform Std. Dev  Accuracy Delta  \n",
       "Number of Samples                                    \n",
       "100                        0.014407         0.21697  \n",
       "250                        0.007568         0.14146  \n",
       "500                        0.006486         0.10024  \n",
       "1000                       0.003811         0.07311  \n",
       "2500                       0.002230         0.05207  \n",
       "5000                       0.001456         0.03229  \n",
       "10000                      0.001136         0.02163  "
      ]
     },
     "execution_count": 67,
     "metadata": {},
     "output_type": "execute_result"
    }
   ],
   "source": [
    "data_dict = {'K-Means Accuracy':proto_avg,'K-Means Std. Dev': proto_std, 'Uniform Accuracy': uni_avg,'Uniform Std. Dev'\\\n",
    "            : uni_std,'Accuracy Delta':delta}\n",
    "k = pd.DataFrame(data = data_dict)\n",
    "k.index = [100,250,500,1000,2500,5000,10000]\n",
    "k.rename_axis('Number of Samples')\n"
   ]
  },
  {
   "cell_type": "code",
   "execution_count": 25,
   "metadata": {},
   "outputs": [
    {
     "data": {
      "text/html": [
       "<div>\n",
       "<style scoped>\n",
       "    .dataframe tbody tr th:only-of-type {\n",
       "        vertical-align: middle;\n",
       "    }\n",
       "\n",
       "    .dataframe tbody tr th {\n",
       "        vertical-align: top;\n",
       "    }\n",
       "\n",
       "    .dataframe thead th {\n",
       "        text-align: right;\n",
       "    }\n",
       "</style>\n",
       "<table border=\"1\" class=\"dataframe\">\n",
       "  <thead>\n",
       "    <tr style=\"text-align: right;\">\n",
       "      <th></th>\n",
       "      <th>K-Means Accuracy</th>\n",
       "      <th>K-Means Std. Dev</th>\n",
       "      <th>Uniform Accuracy</th>\n",
       "      <th>Uniform Std. Dev</th>\n",
       "      <th>Accuracy Delta</th>\n",
       "    </tr>\n",
       "  </thead>\n",
       "  <tbody>\n",
       "    <tr>\n",
       "      <th>100</th>\n",
       "      <td>0.92457</td>\n",
       "      <td>0.001194</td>\n",
       "      <td>0.70760</td>\n",
       "      <td>0.014407</td>\n",
       "      <td>0.21697</td>\n",
       "    </tr>\n",
       "    <tr>\n",
       "      <th>250</th>\n",
       "      <td>0.94200</td>\n",
       "      <td>0.001059</td>\n",
       "      <td>0.80054</td>\n",
       "      <td>0.007568</td>\n",
       "      <td>0.14146</td>\n",
       "    </tr>\n",
       "    <tr>\n",
       "      <th>500</th>\n",
       "      <td>0.95157</td>\n",
       "      <td>0.001147</td>\n",
       "      <td>0.85133</td>\n",
       "      <td>0.006486</td>\n",
       "      <td>0.10024</td>\n",
       "    </tr>\n",
       "    <tr>\n",
       "      <th>1000</th>\n",
       "      <td>0.95827</td>\n",
       "      <td>0.001336</td>\n",
       "      <td>0.88516</td>\n",
       "      <td>0.003811</td>\n",
       "      <td>0.07311</td>\n",
       "    </tr>\n",
       "    <tr>\n",
       "      <th>2500</th>\n",
       "      <td>0.96312</td>\n",
       "      <td>0.001186</td>\n",
       "      <td>0.91105</td>\n",
       "      <td>0.002230</td>\n",
       "      <td>0.05207</td>\n",
       "    </tr>\n",
       "    <tr>\n",
       "      <th>5000</th>\n",
       "      <td>0.96786</td>\n",
       "      <td>0.001205</td>\n",
       "      <td>0.93557</td>\n",
       "      <td>0.001456</td>\n",
       "      <td>0.03229</td>\n",
       "    </tr>\n",
       "  </tbody>\n",
       "</table>\n",
       "</div>"
      ],
      "text/plain": [
       "      K-Means Accuracy  K-Means Std. Dev  Uniform Accuracy  Uniform Std. Dev  \\\n",
       "100            0.92457          0.001194           0.70760          0.014407   \n",
       "250            0.94200          0.001059           0.80054          0.007568   \n",
       "500            0.95157          0.001147           0.85133          0.006486   \n",
       "1000           0.95827          0.001336           0.88516          0.003811   \n",
       "2500           0.96312          0.001186           0.91105          0.002230   \n",
       "5000           0.96786          0.001205           0.93557          0.001456   \n",
       "\n",
       "      Accuracy Delta  \n",
       "100          0.21697  \n",
       "250          0.14146  \n",
       "500          0.10024  \n",
       "1000         0.07311  \n",
       "2500         0.05207  \n",
       "5000         0.03229  "
      ]
     },
     "execution_count": 25,
     "metadata": {},
     "output_type": "execute_result"
    }
   ],
   "source": [
    "k"
   ]
  },
  {
   "cell_type": "code",
   "execution_count": null,
   "metadata": {},
   "outputs": [],
   "source": []
  }
 ],
 "metadata": {
  "kernelspec": {
   "display_name": "Python 3",
   "language": "python",
   "name": "python3"
  },
  "language_info": {
   "codemirror_mode": {
    "name": "ipython",
    "version": 3
   },
   "file_extension": ".py",
   "mimetype": "text/x-python",
   "name": "python",
   "nbconvert_exporter": "python",
   "pygments_lexer": "ipython3",
   "version": "3.6.10"
  }
 },
 "nbformat": 4,
 "nbformat_minor": 2
}
