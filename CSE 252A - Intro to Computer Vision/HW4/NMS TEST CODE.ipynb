{
 "cells": [
  {
   "cell_type": "code",
   "execution_count": 1,
   "metadata": {},
   "outputs": [],
   "source": [
    "smooth = (1,2)\n",
    "x,y = smooth\n",
    "import numpy as np\n",
    "import scipy\n",
    "from scipy.ndimage.filters import gaussian_filter\n",
    "import matplotlib.pyplot as plt"
   ]
  },
  {
   "cell_type": "code",
   "execution_count": 84,
   "metadata": {},
   "outputs": [
    {
     "name": "stdout",
     "output_type": "stream",
     "text": [
      "[[1 3 1]\n",
      " [2 5 4]\n",
      " [3 1 4]]\n",
      "(array([1, 2, 1, 2, 0, 1, 2, 0, 0], dtype=int64), array([1, 2, 2, 0, 1, 0, 1, 2, 0], dtype=int64))\n"
     ]
    },
    {
     "data": {
      "text/plain": [
       "[[1, 1], [2, 2], [1, 2], [2, 0], [0, 1], [1, 0], [2, 1], [0, 2], [0, 0]]"
      ]
     },
     "execution_count": 84,
     "metadata": {},
     "output_type": "execute_result"
    }
   ],
   "source": [
    "# index sorting\n",
    "\n",
    "xx = np.array([[1,3,1],[2,5,4],[3,1,4]])\n",
    "flat = xx.ravel() # make a list of values\n",
    "sort = np.argsort(flat, axis=None)[::-1] # sort by max\n",
    "#print(sort)\n",
    "ind = np.unravel_index(sort,dims = xx.shape)\n",
    "corner_loc = []\n",
    "print(xx)\n",
    "print(ind)\n",
    "\n",
    "for i in range(len(ind[0])):\n",
    "    \n",
    "    corner_loc.append([ind[0][i],ind[1][i]])\n",
    "    \n",
    "corner_loc"
   ]
  },
  {
   "cell_type": "code",
   "execution_count": 2,
   "metadata": {},
   "outputs": [],
   "source": [
    "def convolve_row_wise(image,kernel): # function for row kernel\n",
    "    output_im_shape = (image.shape[0],image.shape[1]-(kernel.shape[1]-1))\n",
    "    output_im = np.zeros(output_im_shape)\n",
    "    \n",
    "    m = kernel.shape[1]\n",
    "    #print(m)\n",
    "    for j in range(image.shape[0]): # all rows\n",
    "        for i in range(m//2,image.shape[1]-m//2): # losing some columns\n",
    "\n",
    "            kernel_output = 0\n",
    "        \n",
    "            for k in range(m): \n",
    "                #print(k,i,j)\n",
    "                kernel_output += image[j,i+(k-m//2)]*kernel[0,k]    \n",
    "            \n",
    "            output_im[j,i-m//2] = kernel_output\n",
    "            \n",
    "    return output_im   \n",
    "    \n",
    "\n",
    "    \n",
    "    \n",
    "def convolve_col_wise(image,kernel): # function for column kernel\n",
    "    \n",
    "    output_im_shape = (image.shape[0]-(kernel.shape[0]-1),image.shape[1])\n",
    "    output_im = np.zeros(output_im_shape)\n",
    "\n",
    "    m = kernel.shape[0]\n",
    "    #print(m)\n",
    "    for j in range(m//2,image.shape[0]-m//2): # all rows\n",
    "        for i in range(image.shape[1]): # losing some columns\n",
    "\n",
    "            kernel_output = 0\n",
    "\n",
    "            for k in range(m): \n",
    "                #print(k,i,j)\n",
    "                kernel_output += image[j+(k-m//2),i]*kernel[k,0]    \n",
    "\n",
    "            output_im[j-m//2,i] = kernel_output\n",
    "\n",
    "    return output_im  "
   ]
  },
  {
   "cell_type": "code",
   "execution_count": 51,
   "metadata": {},
   "outputs": [],
   "source": [
    "def new_nms(image,windowSize):\n",
    "    \n",
    "    nms_im = image.copy()\n",
    "    for j in range(windowSize//2,nms_im.shape[0]-windowSize//2):\n",
    "        for i in range(windowSize//2,nms_im.shape[1]-windowSize//2):\n",
    "            \n",
    "            \n",
    "            window = nms_im[j-windowSize//2:j+windowSize//2+1\\\n",
    "                          ,i-windowSize//2:i+windowSize//2+1]\n",
    "            \n",
    "            window_zeros  = np.zeros(window.shape) # lower all non-max values to zeros\n",
    "            window_max    = np.amax(window)        # \n",
    "            max_loc       = np.where(window == window_max)\n",
    "            k,l           = max_loc[0][0],max_loc[1][0] # take the first index of x and y as the max\n",
    "            \n",
    "            window_zeros[k,l] = window_max\n",
    "            \n",
    "            nms_im[j-windowSize//2:j+windowSize//2+1\\\n",
    "                  ,i-windowSize//2:i+windowSize//2+1] = window_zeros\n",
    "            \n",
    "    return nms_im\n",
    "                \n",
    "    \n",
    "        \n",
    "    "
   ]
  },
  {
   "cell_type": "code",
   "execution_count": 45,
   "metadata": {},
   "outputs": [
    {
     "data": {
      "text/plain": [
       "(array([0, 0, 0, 1, 1, 1, 2, 2, 2], dtype=int64),\n",
       " array([0, 1, 2, 0, 1, 2, 0, 1, 2], dtype=int64))"
      ]
     },
     "execution_count": 45,
     "metadata": {},
     "output_type": "execute_result"
    }
   ],
   "source": []
  },
  {
   "cell_type": "code",
   "execution_count": 49,
   "metadata": {},
   "outputs": [
    {
     "data": {
      "text/plain": [
       "(0, 0)"
      ]
     },
     "execution_count": 49,
     "metadata": {},
     "output_type": "execute_result"
    },
    {
     "data": {
      "image/png": "[encoded data removed]",
      "text/plain": [
       "<Figure size 432x288 with 1 Axes>"
      ]
     },
     "metadata": {},
     "output_type": "display_data"
    }
   ],
   "source": [
    "plt.imshow(y,cmap = 'gray')\n",
    "window = y[0:3,0:3]\n",
    "center = window[1,1]\n",
    "np.where(window>center)[0][0],np.where(window>center)[1][0]\n"
   ]
  },
  {
   "cell_type": "code",
   "execution_count": 52,
   "metadata": {},
   "outputs": [
    {
     "name": "stdout",
     "output_type": "stream",
     "text": [
      "0.0\n"
     ]
    },
    {
     "data": {
      "text/plain": [
       "<matplotlib.image.AxesImage at 0x2a9411f5748>"
      ]
     },
     "execution_count": 52,
     "metadata": {},
     "output_type": "execute_result"
    },
    {
     "data": {
      "image/png": "[encoded data removed]",
      "text/plain": [
       "<Figure size 432x288 with 1 Axes>"
      ]
     },
     "metadata": {},
     "output_type": "display_data"
    }
   ],
   "source": [
    "nms_im = new_nms(y,3)\n",
    "print(np.min(nms_im))\n",
    "plt.imshow(nms_im,cmap = 'gray')"
   ]
  },
  {
   "cell_type": "code",
   "execution_count": 3,
   "metadata": {},
   "outputs": [
    {
     "data": {
      "image/png": "[encoded data removed]",
      "text/plain": [
       "<Figure size 432x288 with 1 Axes>"
      ]
     },
     "metadata": {},
     "output_type": "display_data"
    }
   ],
   "source": [
    "x = np.eye(15) + np.fliplr(np.eye(15))\n",
    "\n",
    "y = gaussian_filter(x,1,truncate = 2)\n",
    "\n",
    "plt.imshow(y,cmap = 'gray')\n",
    "plt.show()"
   ]
  },
  {
   "cell_type": "code",
   "execution_count": 27,
   "metadata": {},
   "outputs": [
    {
     "data": {
      "text/plain": [
       "0.0"
      ]
     },
     "execution_count": 27,
     "metadata": {},
     "output_type": "execute_result"
    }
   ],
   "source": []
  },
  {
   "cell_type": "code",
   "execution_count": 12,
   "metadata": {
    "collapsed": true
   },
   "outputs": [],
   "source": [
    "d_x = np.array([[-.5,0,.5]])\n",
    "d_y = np.array([[-.5,0,.5]]).T\n",
    "\n",
    "\n",
    "dx_im = convolve_row_wise(y,d_x) # we lose 2 columns\n",
    "dy_im = convolve_col_wise(y,d_y) # we lose 2 rows"
   ]
  },
  {
   "cell_type": "code",
   "execution_count": 14,
   "metadata": {},
   "outputs": [
    {
     "data": {
      "image/png": "[encoded data removed]",
      "text/plain": [
       "<matplotlib.figure.Figure at 0x963d2b0>"
      ]
     },
     "metadata": {},
     "output_type": "display_data"
    }
   ],
   "source": [
    "plt.subplot(1,2,1)\n",
    "plt.imshow(dx_im,cmap = 'gray')\n",
    "plt.subplot(1,2,2)\n",
    "plt.imshow(dy_im,cmap = 'gray')\n",
    "plt.show()"
   ]
  },
  {
   "cell_type": "code",
   "execution_count": 16,
   "metadata": {},
   "outputs": [
    {
     "data": {
      "text/plain": [
       "((15L, 13L), 15L)"
      ]
     },
     "execution_count": 16,
     "metadata": {},
     "output_type": "execute_result"
    }
   ],
   "source": [
    "dx_im.shape,smooth_x"
   ]
  },
  {
   "cell_type": "code",
   "execution_count": 18,
   "metadata": {},
   "outputs": [],
   "source": [
    "smooth_y,smooth_x = x.shape\n",
    "windowSize = 3\n",
    "dx_im = np.hstack((np.zeros((smooth_y,windowSize//2)),dx_im,np.zeros((smooth_y,windowSize//2))))\n",
    "dy_im = np.vstack((np.zeros((windowSize//2,smooth_x)),dy_im,np.zeros((windowSize//2,smooth_x))))"
   ]
  },
  {
   "cell_type": "code",
   "execution_count": 19,
   "metadata": {},
   "outputs": [
    {
     "name": "stderr",
     "output_type": "stream",
     "text": [
      "C:\\Users\\Steve\\Anaconda2\\lib\\site-packages\\ipykernel_launcher.py:2: RuntimeWarning: divide by zero encountered in divide\n",
      "  \n",
      "C:\\Users\\Steve\\Anaconda2\\lib\\site-packages\\ipykernel_launcher.py:2: RuntimeWarning: invalid value encountered in divide\n",
      "  \n"
     ]
    }
   ],
   "source": [
    "Ixy = dx_im*dy_im\n",
    "I_th = dy_im/dx_im\n",
    "I_th[np.where(np.isnan(I_th))] = 0\n",
    "pinf = float('+inf')\n",
    "ninf = float('-inf')\n",
    "I_th[np.where(I_th == pinf)] = 3.14/2\n",
    "I_th[np.where(I_th == ninf)] = -3.14/2\n"
   ]
  },
  {
   "cell_type": "code",
   "execution_count": 21,
   "metadata": {},
   "outputs": [
    {
     "data": {
      "text/plain": [
       "array([[ 0.        , -0.        , -0.        , -0.        , -0.        ,\n",
       "        -0.        ,  0.        ,  0.        ,  0.        ,  0.        ,\n",
       "         0.        ,  0.        ,  0.        ,  0.        ,  0.        ],\n",
       "       [-1.57      ,  1.        , -0.74704358, -0.97025178, -1.        ,\n",
       "        -1.        , -1.        ,  0.        ,  1.        ,  1.        ,\n",
       "         1.        ,  0.97025178,  0.74704358, -1.        , -1.57      ],\n",
       "       [-1.57      , -1.33860998,  1.        , -1.        , -1.        ,\n",
       "        -1.        , -1.        ,  1.57      ,  1.        ,  1.        ,\n",
       "         1.        ,  1.        , -1.        ,  1.33860998, -1.57      ],\n",
       "       [-1.57      , -1.03066031, -1.        ,  0.        , -1.        ,\n",
       "        -1.        , -1.06085751,  1.57      ,  1.06085751,  1.        ,\n",
       "         1.        ,  0.        ,  1.        ,  1.03066031, -1.57      ],\n",
       "       [-1.57      , -1.        , -1.        , -1.        ,  0.        ,\n",
       "        -1.03283772, -1.31303529,  1.57      ,  1.31303529,  1.03283772,\n",
       "         0.        ,  1.        ,  1.        ,  1.        , -1.57      ],\n",
       "       [-1.57      , -1.        , -1.        , -1.        , -0.96820632,\n",
       "         1.        , -3.41521567,  1.57      ,  3.41521567, -1.        ,\n",
       "         0.96820632,  1.        ,  1.        ,  1.        , -1.57      ],\n",
       "       [ 0.        , -1.        , -1.        , -0.94263366, -0.76159416,\n",
       "        -0.29280728,  1.        ,  1.57      , -1.        ,  0.29280728,\n",
       "         0.76159416,  0.94263366,  1.        ,  1.        ,  0.        ],\n",
       "       [ 0.        ,  0.        ,  0.        ,  0.        ,  0.        ,\n",
       "         0.        ,  0.        ,  0.        , -0.        , -0.        ,\n",
       "        -0.        , -0.        , -0.        ,  0.        ,  0.        ],\n",
       "       [ 0.        ,  1.        ,  1.        ,  0.94263366,  0.76159416,\n",
       "         0.29280728, -1.        , -1.57      ,  1.        , -0.29280728,\n",
       "        -0.76159416, -0.94263366, -1.        , -1.        ,  0.        ],\n",
       "       [ 1.57      ,  1.        ,  1.        ,  1.        ,  0.96820632,\n",
       "        -1.        ,  3.41521567, -1.57      , -3.41521567,  1.        ,\n",
       "        -0.96820632, -1.        , -1.        , -1.        ,  1.57      ],\n",
       "       [ 1.57      ,  1.        ,  1.        ,  1.        ,  0.        ,\n",
       "         1.03283772,  1.31303529, -1.57      , -1.31303529, -1.03283772,\n",
       "         0.        , -1.        , -1.        , -1.        ,  1.57      ],\n",
       "       [ 1.57      ,  1.03066031,  1.        ,  0.        ,  1.        ,\n",
       "         1.        ,  1.06085751, -1.57      , -1.06085751, -1.        ,\n",
       "        -1.        ,  0.        , -1.        , -1.03066031,  1.57      ],\n",
       "       [ 1.57      ,  1.33860998, -1.        ,  1.        ,  1.        ,\n",
       "         1.        ,  1.        , -1.57      , -1.        , -1.        ,\n",
       "        -1.        , -1.        ,  1.        , -1.33860998,  1.57      ],\n",
       "       [ 1.57      , -1.        ,  0.74704358,  0.97025178,  1.        ,\n",
       "         1.        ,  1.        ,  0.        , -1.        , -1.        ,\n",
       "        -1.        , -0.97025178, -0.74704358,  1.        ,  1.57      ],\n",
       "       [ 0.        , -0.        , -0.        , -0.        , -0.        ,\n",
       "        -0.        ,  0.        ,  0.        ,  0.        ,  0.        ,\n",
       "         0.        ,  0.        ,  0.        ,  0.        ,  0.        ]])"
      ]
     },
     "execution_count": 21,
     "metadata": {},
     "output_type": "execute_result"
    }
   ],
   "source": [
    "I_th"
   ]
  },
  {
   "cell_type": "code",
   "execution_count": 22,
   "metadata": {},
   "outputs": [
    {
     "data": {
      "image/png": "[encoded data removed]",
      "text/plain": [
       "<matplotlib.figure.Figure at 0x9827ba8>"
      ]
     },
     "metadata": {},
     "output_type": "display_data"
    }
   ],
   "source": [
    "plt.imshow(Ixy,cmap = 'gray')\n",
    "plt.show()"
   ]
  },
  {
   "cell_type": "code",
   "execution_count": 28,
   "metadata": {},
   "outputs": [
    {
     "data": {
      "image/png": "[encoded data removed]",
      "text/plain": [
       "<matplotlib.figure.Figure at 0xb6e7e10>"
      ]
     },
     "metadata": {},
     "output_type": "display_data"
    }
   ],
   "source": [
    "plt.figure(figsize=(10,10))\n",
    "plt.subplot(1,4,1)\n",
    "plt.imshow((dx_im),cmap = 'gray')\n",
    "plt.subplot(1,4,2)\n",
    "plt.imshow(dy_im,cmap = 'gray')\n",
    "plt.subplot(1,4,3)\n",
    "plt.imshow(Ixy,cmap = 'gray')\n",
    "plt.subplot(1,4,4)\n",
    "plt.imshow(I_th,cmap = 'gray')\n",
    "plt.show()"
   ]
  },
  {
   "cell_type": "code",
   "execution_count": 17,
   "metadata": {},
   "outputs": [
    {
     "data": {
      "text/plain": [
       "0.0"
      ]
     },
     "execution_count": 17,
     "metadata": {},
     "output_type": "execute_result"
    }
   ],
   "source": [
    "# new version of the old code\n",
    "\n",
    "\n",
    "def nms(C_image,Ixx,Iyy,windowSize):\n",
    "\n",
    "\n",
    "    # need to remove some data from the edges of the gradient matrices\n",
    "    # the corner detector removed some data\n",
    "    print(Ixx.shape,Iyy.shape)\n",
    "    Ixx = Ixx[windowSize//2:-windowSize//2,windowSize//2:-windowSize//2]\n",
    "    Iyy = Iyy[windowSize//2:-windowSize//2,windowSize//2:-windowSize//2]\n",
    "\n",
    "\n",
    "    g_mag = Ixx*Iyy\n",
    "    g_theta = np.zeros((g_mag.shape))\n",
    "    \n",
    "    \n",
    "    Ixy = dx_im*dy_im\n",
    "    I_th = dy_im/dx_im\n",
    "    I_th[np.where(np.isnan(I_th))] = 0\n",
    "    pinf = float('+inf')\n",
    "    ninf = float('-inf')\n",
    "    I_th[np.where(I_th == pinf)] = 3.14/2\n",
    "    I_th[np.where(I_th == ninf)] = -3.14/2\n",
    "    \n",
    "\n",
    "    #image = g_mag.copy()\n",
    "    image = C_image.copy()\n",
    "    print(image.shape)\n",
    "    window_size = windowSize\n",
    "    m = 0\n",
    "\n",
    "    # -------------- window iteration sliding ------------------------#\n",
    "    for i in range(window_size//2,g_mag.shape[1]-window_size//2):\n",
    "        for j in range(window_size//2,g_mag.shape[0]-window_size//2):\n",
    "\n",
    "            window = image[j-window_size//2:j+window_size//2+1\\\n",
    "                           ,i-window_size//2:i+window_size//2+1]\n",
    "\n",
    "            if i == window_size//2: # sanity check ourselves\n",
    "                try:\n",
    "                    assert window.shape == (window_size,window_size) \n",
    "                except:\n",
    "                    print(window.shape,i,j)\n",
    "                    return\n",
    "\n",
    "\n",
    "            # ------------- find points in line with the gradient -------# \n",
    "\n",
    "            '''\n",
    "            # going to derive an equation for the line created \n",
    "            by the gradient and see which pixels intersect that line\n",
    "\n",
    "             grad.dir     ^ y\n",
    "                     \\    |\n",
    "                      \\   |\n",
    "                       \\  |\n",
    "                        \\ |\n",
    "                         \\|\n",
    "               x<- - - - - \n",
    "\n",
    "\n",
    "            '''\n",
    "\n",
    "            intensity = image[j,i]\n",
    "            theta     = g_theta[j,i]\n",
    "            candidates = np.zeros(window.shape)\n",
    "\n",
    "#             # check for horizontal lines:\n",
    "#             if abs(math.tan(theta))*window_size//2 <= 1:\n",
    "#                 candidates[window_size//2,:] = 1\n",
    "\n",
    "#     #         # check for vertical lines\n",
    "#     #         elif abs(math.tan(theta)) > window_size//2: \n",
    "\n",
    "#     #             candidates[:,window_size//2] = 1\n",
    "\n",
    "#             else:\n",
    "\n",
    "#                 # derive equation for the line\n",
    "#                 y_coord = window_size//2 # this is the center of our nms window\n",
    "#                 x_coord = window_size//2 #\n",
    "#                 b = y_coord - math.tan(theta)*x_coord # line eq\n",
    "\n",
    "\n",
    "#                 # new we find what values the line intersects\n",
    "#                 for k in range(window_size): # x values\n",
    "#                     for l in range(window_size): # y values\n",
    "\n",
    "#                         if k == window_size//2 & l == window_size//2: # skip the center point\n",
    "#                             candidates[l,k]=1\n",
    "#                             continue\n",
    "                            \n",
    "\n",
    "#                         y_value = math.tan(theta)*k+b \n",
    "#                         y_pix = np.round(y_value,0).astype(int)# the pixel that the line itersects is the floor value of y\n",
    "\n",
    "#                         if y_pix == l:\n",
    "#                             candidates[l,k]=1\n",
    "                \n",
    "            y_coord = window_size//2 # this is the center of our nms window\n",
    "            x_coord = window_size//2 #\n",
    "            b = y_coord - math.tan(theta)*x_coord # line eq            \n",
    "\n",
    "\n",
    "            for k in range(window_size): # x values\n",
    "\n",
    "                        y_value = math.tan(theta)*k+b \n",
    "                        y_pix = np.round(y_value,0).astype(int)# the pixel that the line itersects is the floor value of y\n",
    "\n",
    "                        if k == window_size//2 & l == window_size//2: # skip the center point\n",
    "                            candidates[l,k]=1 \n",
    "                            continue\n",
    "\n",
    "                        if y_pix <= window_size:\n",
    "                            candidates[y_pix,k]=1         \n",
    "                            \n",
    "                            \n",
    "                            \n",
    "                            ### TRY REARRANGING THIS SO WE TURN ON EVERYTHING ON THE LINE\n",
    "\n",
    "\n",
    "    #         if i/50 in [1,2,3,4,5,6]:\n",
    "    #             print(abs(math.tan(theta)))\n",
    "    #             print(candidates)\n",
    "\n",
    "            # --------- compare candidates to the center value -------------# \n",
    "\n",
    "            updated_window = window.copy()\n",
    "            max_val_loc = ()\n",
    "            max_val = intensity\n",
    "\n",
    "            for k in range(window_size):\n",
    "                for l in range(window_size):\n",
    "\n",
    "                    if candidates[l,k]==1: # make sure its along the gradient\n",
    "                        candidate_value = window[l,k]\n",
    "\n",
    "                        if candidate_value > max_val: \n",
    "                            # find our maximum value along the line\n",
    "                            max_val == candidate_value\n",
    "                            max_val_loc = (l,k)\n",
    "\n",
    "\n",
    "            # zero out non-max values\n",
    "\n",
    "            if len(max_val_loc) == 0: \n",
    "                # our center point had the highest value, \n",
    "                # set the rest of the candidates == 0\n",
    "                updated_window[np.where(candidates==1)]=0\n",
    "            else:\n",
    "                updated_window[np.where(candidates==1)]=0\n",
    "                updated_window[max_val_loc[0],max_val_loc[1]]=max_val\n",
    "\n",
    "#         if max_val > 0:\n",
    "#             print(max_val)\n",
    "#             print(candidates)\n",
    "\n",
    "\n",
    "\n",
    "            #update the image\n",
    "            image[j-window_size//2:j+window_size//2+1\\\n",
    "                  ,i-window_size//2:i+window_size//2+1] = updated_window\n",
    "\n",
    "    return image\n"
   ]
  },
  {
   "cell_type": "code",
   "execution_count": null,
   "metadata": {
    "collapsed": true
   },
   "outputs": [],
   "source": []
  },
  {
   "cell_type": "code",
   "execution_count": null,
   "metadata": {
    "collapsed": true
   },
   "outputs": [],
   "source": [
    "  # address any padding issues\n",
    "    smooth_y,smooth_x = smooth_im.shape\n",
    "    \n",
    "    dx_im = np.hstack((np.zeros((smooth_y,windowSize//2)),dx_im,np.zeros((smooth_y,window_size//2))))\n",
    "    dy_im = np.vstack((np.zeros((windowSize//2,smooth_x)),dy_im,np.zeros((windowSize//2,smooth_x))))\n",
    "    \n",
    "    \n",
    "    # building moment matrices:\n",
    "    \n",
    "    Ixx = np.multiply(dx_im,dx_im)\n",
    "    Iyy = np.multiply(dy_im,dy_im)\n",
    "    Ixy = np.multiply(dx_im,dy_im)\n",
    "    \n",
    "    # building corner function\n",
    "    \n",
    "    \n",
    "    # shape of new image after kernel op with the window\n",
    "    corner_shape = (image.shape[0]-(windowSize-1),image.shape[1]-(windowSize-1))\n",
    "    corner_im    = np.zeros(corner_shape)\n",
    "    \n",
    "    for j in range(windowSize//2,image.shape[0]-windowSize//2):\n",
    "        \n",
    "        for i in range(windowSize//2,image.shape[1]-windowSize//2):  \n",
    "\n",
    "\n",
    "            window_coordsj = range(j-windowSize//2,j+windowSize//2+1)\n",
    "            window_coordsi = range(i-windowSize//2,i+windowSize//2+1)\n",
    "            C = np.array([[0,0],[0,0]])\n",
    "            \n",
    "            for jj in range(len(window_coordsj)):\n",
    "                for ii in range(len(window_coordsi)):\n",
    "                    \n",
    "                    # setting window function to 1's\n",
    "                    C[0,0] += Ixx[window_coordsj[jj],window_coordsi[ii]]\n",
    "                    C[0,1] += Ixy[window_coordsj[jj],window_coordsi[ii]]\n",
    "                    C[1,0] += Ixy[window_coordsj[jj],window_coordsi[ii]] \n",
    "                    C[1,1] += Iyy[window_coordsj[jj],window_coordsi[ii]]\n",
    "                    \n",
    "                    \n",
    "            # find the min eigenvalue:\n",
    "            small_eig = np.min(np.linalg.eigvals(C))\n",
    "\n",
    "            threshold = .04 # .04-.14\n",
    "\n",
    "            if small_eig >= threshold:\n",
    "                \n",
    "                corner_im[j-windowSize//2,i-windowSize//2] = small_eig\n",
    "                "
   ]
  },
  {
   "cell_type": "code",
   "execution_count": null,
   "metadata": {},
   "outputs": [],
   "source": [
    "#### OLD NMS CODE ###\n",
    "def nms(C_image,Ixx,Iyy,windowSize):\n",
    "\n",
    "\n",
    "    # need to remove some data from the edges of the gradient matrices\n",
    "    # the corner detector removed some data\n",
    "    print(Ixx.shape,Iyy.shape)\n",
    "    Ixx = Ixx[windowSize//2:-windowSize//2,windowSize//2:-windowSize//2]\n",
    "    Iyy = Iyy[windowSize//2:-windowSize//2,windowSize//2:-windowSize//2]\n",
    "\n",
    "\n",
    "    g_mag = Ixx*Iyy\n",
    "    g_theta = np.zeros((g_mag.shape))\n",
    "    print(g_mag.shape)\n",
    "\n",
    "    for i in range(g_mag.shape[1]):\n",
    "        for j in range(g_mag.shape[0]):\n",
    "\n",
    "\n",
    "            try:\n",
    "\n",
    "                if Iyy[j,i]==0 & Ixx[0,0] == 0:\n",
    "                    continue\n",
    "\n",
    "                else:\n",
    "                    g_theta[j,i] = math.atan(Iyy[j,i]/Ixx[j,i])\n",
    "\n",
    "            except:\n",
    "                g_theta[j,i] = math.atan(Iyy[j,i]/.00001) \n",
    "\n",
    "    #image = g_mag.copy()\n",
    "    image = C_image.copy()\n",
    "    print(image.shape)\n",
    "    window_size = windowSize\n",
    "    m = 0\n",
    "\n",
    "    # -------------- window iteration sliding ------------------------#\n",
    "    for i in range(window_size//2,g_mag.shape[1]-window_size//2):\n",
    "        for j in range(window_size//2,g_mag.shape[0]-window_size//2):\n",
    "\n",
    "            window = image[j-window_size//2:j+window_size//2+1\\\n",
    "                           ,i-window_size//2:i+window_size//2+1]\n",
    "\n",
    "            if i == window_size//2: # sanity check ourselves\n",
    "                try:\n",
    "                    assert window.shape == (window_size,window_size) \n",
    "                except:\n",
    "                    print(window.shape,i,j)\n",
    "                    return\n",
    "\n",
    "\n",
    "            # ------------- find points in line with the gradient -------# \n",
    "\n",
    "            '''\n",
    "            # going to derive an equation for the line created \n",
    "            by the gradient and see which pixels intersect that line\n",
    "\n",
    "             grad.dir     ^ y\n",
    "                     \\    |\n",
    "                      \\   |\n",
    "                       \\  |\n",
    "                        \\ |\n",
    "                         \\|\n",
    "               x<- - - - - \n",
    "\n",
    "\n",
    "            '''\n",
    "\n",
    "            intensity = image[j,i]\n",
    "            theta     = g_theta[j,i]\n",
    "            candidates = np.zeros(window.shape)\n",
    "\n",
    "#             # check for horizontal lines:\n",
    "#             if abs(math.tan(theta))*window_size//2 <= 1:\n",
    "#                 candidates[window_size//2,:] = 1\n",
    "\n",
    "#     #         # check for vertical lines\n",
    "#     #         elif abs(math.tan(theta)) > window_size//2: \n",
    "\n",
    "#     #             candidates[:,window_size//2] = 1\n",
    "\n",
    "#             else:\n",
    "\n",
    "#                 # derive equation for the line\n",
    "#                 y_coord = window_size//2 # this is the center of our nms window\n",
    "#                 x_coord = window_size//2 #\n",
    "#                 b = y_coord - math.tan(theta)*x_coord # line eq\n",
    "\n",
    "\n",
    "#                 # new we find what values the line intersects\n",
    "#                 for k in range(window_size): # x values\n",
    "#                     for l in range(window_size): # y values\n",
    "\n",
    "#                         if k == window_size//2 & l == window_size//2: # skip the center point\n",
    "#                             candidates[l,k]=1\n",
    "#                             continue\n",
    "                            \n",
    "\n",
    "#                         y_value = math.tan(theta)*k+b \n",
    "#                         y_pix = np.round(y_value,0).astype(int)# the pixel that the line itersects is the floor value of y\n",
    "\n",
    "#                         if y_pix == l:\n",
    "#                             candidates[l,k]=1\n",
    "                \n",
    "            y_coord = window_size//2 # this is the center of our nms window\n",
    "            x_coord = window_size//2 #\n",
    "            b = y_coord - math.tan(theta)*x_coord # line eq            \n",
    "\n",
    "\n",
    "            for k in range(window_size): # x values\n",
    "\n",
    "                        y_value = math.tan(theta)*k+b \n",
    "                        y_pix = np.round(y_value,0).astype(int)# the pixel that the line itersects is the floor value of y\n",
    "\n",
    "                        if k == window_size//2 & l == window_size//2: # skip the center point\n",
    "                            candidates[l,k]=1 \n",
    "                            continue\n",
    "\n",
    "                        if y_pix <= window_size:\n",
    "                            candidates[y_pix,k]=1         \n",
    "                            \n",
    "                            \n",
    "                            \n",
    "                            ### TRY REARRANGING THIS SO WE TURN ON EVERYTHING ON THE LINE\n",
    "\n",
    "\n",
    "    #         if i/50 in [1,2,3,4,5,6]:\n",
    "    #             print(abs(math.tan(theta)))\n",
    "    #             print(candidates)\n",
    "\n",
    "            # --------- compare candidates to the center value -------------# \n",
    "\n",
    "            updated_window = window.copy()\n",
    "            max_val_loc = ()\n",
    "            max_val = intensity\n",
    "\n",
    "            for k in range(window_size):\n",
    "                for l in range(window_size):\n",
    "\n",
    "                    if candidates[l,k]==1: # make sure its along the gradient\n",
    "                        candidate_value = window[l,k]\n",
    "\n",
    "                        if candidate_value > max_val: \n",
    "                            # find our maximum value along the line\n",
    "                            max_val == candidate_value\n",
    "                            max_val_loc = (l,k)\n",
    "\n",
    "\n",
    "            # zero out non-max values\n",
    "\n",
    "            if len(max_val_loc) == 0: \n",
    "                # our center point had the highest value, \n",
    "                # set the rest of the candidates == 0\n",
    "                updated_window[np.where(candidates==1)]=0\n",
    "            else:\n",
    "                updated_window[np.where(candidates==1)]=0\n",
    "                updated_window[max_val_loc[0],max_val_loc[1]]=max_val\n",
    "\n",
    "#         if max_val > 0:\n",
    "#             print(max_val)\n",
    "#             print(candidates)\n",
    "\n",
    "\n",
    "\n",
    "            #update the image\n",
    "            image[j-window_size//2:j+window_size//2+1\\\n",
    "                  ,i-window_size//2:i+window_size//2+1] = updated_window\n",
    "\n",
    "    return image"
   ]
  }
 ],
 "metadata": {
  "kernelspec": {
   "display_name": "Python 3",
   "language": "python",
   "name": "python3"
  },
  "language_info": {
   "codemirror_mode": {
    "name": "ipython",
    "version": 3
   },
   "file_extension": ".py",
   "mimetype": "text/x-python",
   "name": "python",
   "nbconvert_exporter": "python",
   "pygments_lexer": "ipython3",
   "version": "3.5.5"
  }
 },
 "nbformat": 4,
 "nbformat_minor": 2
}
