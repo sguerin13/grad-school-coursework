{
 "cells": [
  {
   "cell_type": "code",
   "execution_count": 11,
   "metadata": {},
   "outputs": [],
   "source": [
    "smooth = (1,2)\n",
    "x,y = smooth\n",
    "import numpy as np\n",
    "import scipy\n",
    "from scipy.ndimage.filters import gaussian_filter\n",
    "import matplotlib.pyplot as plt"
   ]
  },
  {
   "cell_type": "code",
   "execution_count": 6,
   "metadata": {},
   "outputs": [
    {
     "data": {
      "text/plain": [
       "array([1, 4])"
      ]
     },
     "execution_count": 6,
     "metadata": {},
     "output_type": "execute_result"
    }
   ],
   "source": [
    "np.multiply(np.array([1,2]),np.array([1,2]))"
   ]
  },
  {
   "cell_type": "code",
   "execution_count": 11,
   "metadata": {},
   "outputs": [],
   "source": [
    "x = np.array([[0,0]])"
   ]
  },
  {
   "cell_type": "code",
   "execution_count": 18,
   "metadata": {},
   "outputs": [],
   "source": [
    "x = np.array([[1,2,3],[12,14,1],[1,21,1]])"
   ]
  },
  {
   "cell_type": "code",
   "execution_count": 30,
   "metadata": {},
   "outputs": [
    {
     "data": {
      "text/plain": [
       "21.202725191719"
      ]
     },
     "execution_count": 30,
     "metadata": {},
     "output_type": "execute_result"
    }
   ],
   "source": [
    "shift = (x[:,:]-x.mean())\n",
    "shift_sq = shift**2\n",
    "shift_sq_sum = np.sum(shift_sq)\n",
    "np.sqrt(shift_sq_sum)"
   ]
  },
  {
   "cell_type": "code",
   "execution_count": 27,
   "metadata": {},
   "outputs": [
    {
     "data": {
      "text/plain": [
       "(array([[ 55.48148148, -46.18518519, -18.2962963 ],\n",
       "        [-46.18518519, 121.14814815, 112.03703704],\n",
       "        [-18.2962963 , 112.03703704, 272.92592593]]),\n",
       " array([[ 27.27160494,  17.82716049,  10.38271605],\n",
       "        [ 33.38271605,  60.49382716,  27.27160494],\n",
       "        [ 27.27160494, 218.38271605,  27.27160494]]))"
      ]
     },
     "execution_count": 27,
     "metadata": {},
     "output_type": "execute_result"
    }
   ],
   "source": [
    "shift@shift.T,shift**2"
   ]
  },
  {
   "cell_type": "code",
   "execution_count": 31,
   "metadata": {},
   "outputs": [
    {
     "data": {
      "text/plain": [
       "array([[1, 4, 9]])"
      ]
     },
     "execution_count": 31,
     "metadata": {},
     "output_type": "execute_result"
    }
   ],
   "source": [
    "w = np.array([[1,2,3]])\n",
    "y = np.array([[1,2,3]])\n",
    "\n",
    "w*y"
   ]
  },
  {
   "cell_type": "code",
   "execution_count": null,
   "metadata": {},
   "outputs": [],
   "source": [
    "image = np.zeros((10,10))\n",
    "np.fill_diagonal(image,1)\n",
    "print(image)\n",
    "import matplotlib.pyplot as plt\n",
    "import time\n",
    "plt.imshow(image)\n",
    "plt.show()\n",
    "\n",
    "def test_sliding_window(image,window_size):\n",
    "    \n",
    "    # define window operation\n",
    "    smooth_im_shape = (image.shape[0]-(window_size-1),image.shape[1]-(window_size-1))\n",
    "    smooth_im = np.zeros(smooth_im_shape)\n",
    "    print(smooth_im.shape)\n",
    "    \n",
    "    for j in range(window_size//2,image.shape[0]-window_size//2):\n",
    "        \n",
    "        for i in range(window_size//2,image.shape[1]-window_size//2):\n",
    "\n",
    "            window = image[j-window_size//2:j+window_size//2+1\\\n",
    "                           ,i-window_size//2:i+window_size//2+1]\n",
    "            \n",
    "            #print(j,i)\n",
    "            \n",
    "            \n",
    "            smooth_im[j-window_size//2,i-window_size//2] = np.mean(np.mean(gaussian_filter(window,window_size//7)))\n",
    "            #plt.imshow(window)\n",
    "            #plt.show()\n",
    "            #time.sleep(1)\n",
    "\n",
    "            \n",
    "    \n",
    "    \n",
    "    plt.imshow(smooth_im,cmap = 'gray')\n",
    "    plt.show()\n",
    "    #return smooth_im       \n",
    "\n",
    "test_sliding_window(image,5)"
   ]
  },
  {
   "cell_type": "code",
   "execution_count": 14,
   "metadata": {},
   "outputs": [],
   "source": [
    "def convolve_row_wise(image,kernel): # function for row kernel\n",
    "    output_im_shape = (image.shape[0],image.shape[1]-(kernel.shape[1]-1))\n",
    "    output_im = np.zeros(output_im_shape)\n",
    "    \n",
    "    m = kernel.shape[1]\n",
    "    #print(m)\n",
    "    for j in range(output_im_shape[0]): # all rows\n",
    "        for i in range(m//2,image.shape[1]-m//2): # losing some columns\n",
    "\n",
    "            kernel_output = 0\n",
    "        \n",
    "            for k in range(m): \n",
    "                #print(k,i,j)\n",
    "                kernel_output += image[j,i+(k-m//2)]*kernel[0,k]    \n",
    "            \n",
    "            output_im[j-m//2,i-m//2] = kernel_output\n",
    "            \n",
    "    return output_im   \n",
    "    \n",
    "\n",
    "    \n",
    "    \n",
    "def convolve_col_wise(image,kernel): # function for column kernel\n",
    "    \n",
    "    output_im_shape = (image.shape[0]-(kernel.shape[0]-1),image.shape[1])\n",
    "    output_im = np.zeros(output_im_shape)\n",
    "\n",
    "    m = kernel.shape[0]\n",
    "    #print(m)\n",
    "    for j in range(m//2,output_im_shape[0]-m//2): # all rows\n",
    "        for i in range(image.shape[1]): # losing some columns\n",
    "\n",
    "            kernel_output = 0\n",
    "\n",
    "            for k in range(m): \n",
    "                #print(k,i,j)\n",
    "                kernel_output += image[j+(k-m//2),i]*kernel[k,0]    \n",
    "\n",
    "            output_im[j-m//2,i-m//2] = kernel_output\n",
    "\n",
    "    return output_im  "
   ]
  },
  {
   "cell_type": "code",
   "execution_count": 13,
   "metadata": {},
   "outputs": [
    {
     "data": {
      "text/plain": [
       "<matplotlib.image.AxesImage at 0x1a0d2079080>"
      ]
     },
     "execution_count": 13,
     "metadata": {},
     "output_type": "execute_result"
    },
    {
     "data": {
      "image/png": "[encoded data removed]",
      "text/plain": [
       "<Figure size 432x288 with 1 Axes>"
      ]
     },
     "metadata": {
      "needs_background": "light"
     },
     "output_type": "display_data"
    }
   ],
   "source": [
    "x = np.eye(5)\n",
    "\n",
    "y = gaussian_filter(x,1,truncate = 2)\n",
    "\n",
    "plt.imshow(y,cmap = 'gray')"
   ]
  },
  {
   "cell_type": "code",
   "execution_count": null,
   "metadata": {},
   "outputs": [],
   "source": [
    "d_x = np.array([[-.5,0,.5]])\n",
    "d_y = np.array([[-.5,0,.5]]).T\n",
    "\n",
    "\n",
    "dx_im = convolve_row_wise(smooth_im,d_x) # we lose 2 columns\n",
    "dy_im = convolve_col_wise(smooth_im,d_y) # we lose 2 rows"
   ]
  },
  {
   "cell_type": "code",
   "execution_count": null,
   "metadata": {},
   "outputs": [],
   "source": [
    "def nms(C_image,Ixx,Iyy,windowSize):\n",
    "\n",
    "\n",
    "    # need to remove some data from the edges of the gradient matrices\n",
    "    # the corner detector removed some data\n",
    "    print(Ixx.shape,Iyy.shape)\n",
    "    Ixx = Ixx[windowSize//2:-windowSize//2,windowSize//2:-windowSize//2]\n",
    "    Iyy = Iyy[windowSize//2:-windowSize//2,windowSize//2:-windowSize//2]\n",
    "\n",
    "\n",
    "    g_mag = Ixx*Iyy\n",
    "    g_theta = np.zeros((g_mag.shape))\n",
    "    print(g_mag.shape)\n",
    "\n",
    "    for i in range(g_mag.shape[1]):\n",
    "        for j in range(g_mag.shape[0]):\n",
    "\n",
    "\n",
    "            try:\n",
    "\n",
    "                if Iyy[j,i]==0 & Ixx[0,0] == 0:\n",
    "                    continue\n",
    "\n",
    "                else:\n",
    "                    g_theta[j,i] = math.atan(Iyy[j,i]/Ixx[j,i])\n",
    "\n",
    "            except:\n",
    "                g_theta[j,i] = math.atan(Iyy[j,i]/.00001) \n",
    "\n",
    "    #image = g_mag.copy()\n",
    "    image = C_image.copy()\n",
    "    print(image.shape)\n",
    "    window_size = windowSize\n",
    "    m = 0\n",
    "\n",
    "    # -------------- window iteration sliding ------------------------#\n",
    "    for i in range(window_size//2,g_mag.shape[1]-window_size//2):\n",
    "        for j in range(window_size//2,g_mag.shape[0]-window_size//2):\n",
    "\n",
    "            window = image[j-window_size//2:j+window_size//2+1\\\n",
    "                           ,i-window_size//2:i+window_size//2+1]\n",
    "\n",
    "            if i == window_size//2: # sanity check ourselves\n",
    "                try:\n",
    "                    assert window.shape == (window_size,window_size) \n",
    "                except:\n",
    "                    print(window.shape,i,j)\n",
    "                    return\n",
    "\n",
    "\n",
    "            # ------------- find points in line with the gradient -------# \n",
    "\n",
    "            '''\n",
    "            # going to derive an equation for the line created \n",
    "            by the gradient and see which pixels intersect that line\n",
    "\n",
    "             grad.dir     ^ y\n",
    "                     \\    |\n",
    "                      \\   |\n",
    "                       \\  |\n",
    "                        \\ |\n",
    "                         \\|\n",
    "               x<- - - - - \n",
    "\n",
    "\n",
    "            '''\n",
    "\n",
    "            intensity = image[j,i]\n",
    "            theta     = g_theta[j,i]\n",
    "            candidates = np.zeros(window.shape)\n",
    "\n",
    "#             # check for horizontal lines:\n",
    "#             if abs(math.tan(theta))*window_size//2 <= 1:\n",
    "#                 candidates[window_size//2,:] = 1\n",
    "\n",
    "#     #         # check for vertical lines\n",
    "#     #         elif abs(math.tan(theta)) > window_size//2: \n",
    "\n",
    "#     #             candidates[:,window_size//2] = 1\n",
    "\n",
    "#             else:\n",
    "\n",
    "#                 # derive equation for the line\n",
    "#                 y_coord = window_size//2 # this is the center of our nms window\n",
    "#                 x_coord = window_size//2 #\n",
    "#                 b = y_coord - math.tan(theta)*x_coord # line eq\n",
    "\n",
    "\n",
    "#                 # new we find what values the line intersects\n",
    "#                 for k in range(window_size): # x values\n",
    "#                     for l in range(window_size): # y values\n",
    "\n",
    "#                         if k == window_size//2 & l == window_size//2: # skip the center point\n",
    "#                             candidates[l,k]=1\n",
    "#                             continue\n",
    "                            \n",
    "\n",
    "#                         y_value = math.tan(theta)*k+b \n",
    "#                         y_pix = np.round(y_value,0).astype(int)# the pixel that the line itersects is the floor value of y\n",
    "\n",
    "#                         if y_pix == l:\n",
    "#                             candidates[l,k]=1\n",
    "                \n",
    "            y_coord = window_size//2 # this is the center of our nms window\n",
    "            x_coord = window_size//2 #\n",
    "            b = y_coord - math.tan(theta)*x_coord # line eq            \n",
    "\n",
    "\n",
    "            for k in range(window_size): # x values\n",
    "\n",
    "                        y_value = math.tan(theta)*k+b \n",
    "                        y_pix = np.round(y_value,0).astype(int)# the pixel that the line itersects is the floor value of y\n",
    "\n",
    "                        if k == window_size//2 & l == window_size//2: # skip the center point\n",
    "                            candidates[l,k]=1 \n",
    "                            continue\n",
    "\n",
    "                        if y_pix <= window_size:\n",
    "                            candidates[y_pix,k]=1         \n",
    "                            \n",
    "                            \n",
    "                            \n",
    "                            ### TRY REARRANGING THIS SO WE TURN ON EVERYTHING ON THE LINE\n",
    "\n",
    "\n",
    "    #         if i/50 in [1,2,3,4,5,6]:\n",
    "    #             print(abs(math.tan(theta)))\n",
    "    #             print(candidates)\n",
    "\n",
    "            # --------- compare candidates to the center value -------------# \n",
    "\n",
    "            updated_window = window.copy()\n",
    "            max_val_loc = ()\n",
    "            max_val = intensity\n",
    "\n",
    "            for k in range(window_size):\n",
    "                for l in range(window_size):\n",
    "\n",
    "                    if candidates[l,k]==1: # make sure its along the gradient\n",
    "                        candidate_value = window[l,k]\n",
    "\n",
    "                        if candidate_value > max_val: \n",
    "                            # find our maximum value along the line\n",
    "                            max_val == candidate_value\n",
    "                            max_val_loc = (l,k)\n",
    "\n",
    "\n",
    "            # zero out non-max values\n",
    "\n",
    "            if len(max_val_loc) == 0: \n",
    "                # our center point had the highest value, \n",
    "                # set the rest of the candidates == 0\n",
    "                updated_window[np.where(candidates==1)]=0\n",
    "            else:\n",
    "                updated_window[np.where(candidates==1)]=0\n",
    "                updated_window[max_val_loc[0],max_val_loc[1]]=max_val\n",
    "\n",
    "#         if max_val > 0:\n",
    "#             print(max_val)\n",
    "#             print(candidates)\n",
    "\n",
    "\n",
    "\n",
    "            #update the image\n",
    "            image[j-window_size//2:j+window_size//2+1\\\n",
    "                  ,i-window_size//2:i+window_size//2+1] = updated_window\n",
    "\n",
    "    return image\n"
   ]
  },
  {
   "cell_type": "code",
   "execution_count": null,
   "metadata": {},
   "outputs": [],
   "source": []
  },
  {
   "cell_type": "code",
   "execution_count": null,
   "metadata": {},
   "outputs": [],
   "source": []
  },
  {
   "cell_type": "code",
   "execution_count": null,
   "metadata": {},
   "outputs": [],
   "source": []
  },
  {
   "cell_type": "code",
   "execution_count": null,
   "metadata": {},
   "outputs": [],
   "source": []
  },
  {
   "cell_type": "code",
   "execution_count": null,
   "metadata": {},
   "outputs": [],
   "source": []
  }
 ],
 "metadata": {
  "kernelspec": {
   "display_name": "Python 3",
   "language": "python",
   "name": "python3"
  },
  "language_info": {
   "codemirror_mode": {
    "name": "ipython",
    "version": 3
   },
   "file_extension": ".py",
   "mimetype": "text/x-python",
   "name": "python",
   "nbconvert_exporter": "python",
   "pygments_lexer": "ipython3",
   "version": "3.6.9"
  }
 },
 "nbformat": 4,
 "nbformat_minor": 2
}
