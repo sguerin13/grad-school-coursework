{
 "cells": [
  {
   "cell_type": "markdown",
   "metadata": {},
   "source": [
    "## 6.3 D Code; EM Algorithm for Noisy-OR"
   ]
  },
  {
   "cell_type": "code",
   "execution_count": 1,
   "metadata": {},
   "outputs": [],
   "source": [
    "import numpy as np\n",
    "import itertools\n",
    "import time\n",
    "import math\n",
    "\n",
    "pi = [.05]*23\n",
    "X_data = np.loadtxt('./spectX.txt',dtype = float)\n",
    "Y_data = np.loadtxt('./spectY.txt',dtype = float)\n",
    "T = Y_data.shape[0]\n",
    "num_inputs = 23\n",
    "num_iter   = 265"
   ]
  },
  {
   "cell_type": "code",
   "execution_count": 15,
   "metadata": {},
   "outputs": [],
   "source": [
    "def likelihood(p_s,X,Y,T):\n",
    "    \n",
    "    L = 0\n",
    "    for t in range(T): # iterate over all of the entries\n",
    "        pre_log = 0\n",
    "        multiple = 1\n",
    "        if Y[t] == 1:\n",
    "            for i in range(num_inputs): \n",
    "                multiple = multiple*((1-p_s[i])**(X[t,i]))\n",
    "            pre_log = 1-multiple\n",
    "            \n",
    "        else: # Y[t] == 0\n",
    "            for i in range(num_inputs):\n",
    "                multiple = multiple*((1-p_s[i])**(X[t,i]))\n",
    "            pre_log = multiple\n",
    "            \n",
    "        L += math.log(pre_log)\n",
    "    \n",
    "    return L/T"
   ]
  },
  {
   "cell_type": "code",
   "execution_count": null,
   "metadata": {},
   "outputs": [],
   "source": []
  },
  {
   "cell_type": "code",
   "execution_count": 5,
   "metadata": {},
   "outputs": [],
   "source": [
    "def calc_mistakes(X,Y,pi,T):\n",
    "    \n",
    "    num_mistakes = 0\n",
    "    for t in range(T): # num entries\n",
    "        #calculate the probability of Y = (1-multiple(1-pi)^xi)\n",
    "        multiplier = 1\n",
    "        # caclculate the iterable product\n",
    "        for i in range(num_inputs): # num inputs\n",
    "            multiplier = multiplier * ((1-pi[i])**X[t,i]) # (1-pi)^(x_it)\n",
    "            \n",
    "        Y_pred = np.round(1 - multiplier,0) # rounds it up or down to form the prediction\n",
    "        if Y_pred != Y[t]:\n",
    "            num_mistakes += 1\n",
    "            \n",
    "    return num_mistakes\n",
    "       "
   ]
  },
  {
   "cell_type": "code",
   "execution_count": 6,
   "metadata": {},
   "outputs": [],
   "source": [
    "def calc_pi_update(X,Y,pi,T,num_inputs):\n",
    "    \n",
    "\n",
    "    # preliminarily calculate the denominator of the expectation: 1 - PI{ (1-pi)**xi } for each of the T samples\n",
    "    multiplier = np.ones((T,1))\n",
    "    E_bottom   = np.zeros((T,1))\n",
    "    for t in range(T):\n",
    "        for j in range(num_inputs): \n",
    "            multiplier[t] = multiplier[t] * ((1-pi[j])**X[t,j]) # (1-pi)^(x_it)  \n",
    "                \n",
    "        E_bottom[t] = 1 - multiplier[t] # 1 - PI{ (1-pi)**xi }\n",
    "        \n",
    "    # calculate the expectation and the parameter update for p_i\n",
    "    pi_new = np.zeros((num_inputs,1))\n",
    "    for i in range(num_inputs):\n",
    "        count_Ti = np.count_nonzero(X[:,i]==1) # num times X_i = 1\n",
    "        E_Sum    = 0                           # sum of the expectation over T entries\n",
    "        \n",
    "        for t in range(T):\n",
    "            # calculate numberator: y_i*x_i*p_i\n",
    "            E_top = Y[t]*X[t,i]*pi[i]\n",
    "            # calculate total expectation\n",
    "            E_Sum += E_top/E_bottom[t]\n",
    "        \n",
    "        pi_new[i] = E_Sum/count_Ti\n",
    "        \n",
    "    return pi_new      \n",
    "         \n",
    "    "
   ]
  },
  {
   "cell_type": "code",
   "execution_count": 13,
   "metadata": {},
   "outputs": [],
   "source": [
    "def main_func(X,Y,pi,T,n_iter,num_in):\n",
    "    \n",
    "    '''\n",
    "    X = x data\n",
    "    Y = y data\n",
    "    pi = values of p_i\n",
    "    T  = total # of samples\n",
    "    n_iter = number of iterations of the algo\n",
    "    num_in = number of inputs to the noisy-or\n",
    "    \n",
    "    '''\n",
    "    print_list = [0,1,2,4,8,16,32,64,128,256]\n",
    "    for i in range(n_iter+1): # number of iterations of the EM algorithm\n",
    "        L = likelihood(pi,X,Y,T)\n",
    "        num_mist = calc_mistakes(X,Y,pi,T)\n",
    "        if i in print_list:\n",
    "            print('Iteration: %i , Likelihood: %.4f , num mist: %i' % (i,L,num_mist))\n",
    "        \n",
    "        pi = calc_pi_update(X,Y,pi,T,num_inputs)    \n",
    "        "
   ]
  },
  {
   "cell_type": "code",
   "execution_count": null,
   "metadata": {},
   "outputs": [],
   "source": []
  },
  {
   "cell_type": "code",
   "execution_count": 14,
   "metadata": {},
   "outputs": [
    {
     "name": "stdout",
     "output_type": "stream",
     "text": [
      "Iteration: 0 , Likelihood: -0.9581 , num mist: 175\n",
      "Iteration: 1 , Likelihood: -0.4959 , num mist: 56\n",
      "Iteration: 2 , Likelihood: -0.4082 , num mist: 43\n",
      "Iteration: 4 , Likelihood: -0.3646 , num mist: 42\n",
      "Iteration: 8 , Likelihood: -0.3475 , num mist: 44\n",
      "Iteration: 16 , Likelihood: -0.3346 , num mist: 40\n",
      "Iteration: 32 , Likelihood: -0.3226 , num mist: 37\n",
      "Iteration: 64 , Likelihood: -0.3148 , num mist: 37\n",
      "Iteration: 128 , Likelihood: -0.3112 , num mist: 36\n",
      "Iteration: 256 , Likelihood: -0.3102 , num mist: 36\n"
     ]
    }
   ],
   "source": [
    "main_func(X_data,Y_data,pi,T,num_iter,num_inputs)"
   ]
  },
  {
   "cell_type": "code",
   "execution_count": null,
   "metadata": {},
   "outputs": [],
   "source": []
  }
 ],
 "metadata": {
  "kernelspec": {
   "display_name": "Python 3",
   "language": "python",
   "name": "python3"
  },
  "language_info": {
   "codemirror_mode": {
    "name": "ipython",
    "version": 3
   },
   "file_extension": ".py",
   "mimetype": "text/x-python",
   "name": "python",
   "nbconvert_exporter": "python",
   "pygments_lexer": "ipython3",
   "version": "3.6.10"
  }
 },
 "nbformat": 4,
 "nbformat_minor": 2
}
