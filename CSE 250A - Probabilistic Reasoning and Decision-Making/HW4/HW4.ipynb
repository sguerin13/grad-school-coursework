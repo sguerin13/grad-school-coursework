{
 "cells": [
  {
   "cell_type": "code",
   "execution_count": 1,
   "metadata": {},
   "outputs": [],
   "source": [
    "import io\n",
    "import sys\n",
    "import numpy as np\n",
    "\n"
   ]
  },
  {
   "cell_type": "code",
   "execution_count": 2,
   "metadata": {},
   "outputs": [],
   "source": [
    "vocab = np.loadtxt('./hw4_vocab.txt',dtype = str)\n",
    "uni_count = np.loadtxt('./hw4_unigram.txt',dtype = float)\n",
    "uni_prob  = np.zeros(uni_count.shape)\n",
    "total = uni_count.sum()\n",
    "uni_prob = uni_count/total\n",
    "vocab_m = []\n",
    "m_prob  = []"
   ]
  },
  {
   "cell_type": "markdown",
   "metadata": {},
   "source": [
    "# unigram"
   ]
  },
  {
   "cell_type": "code",
   "execution_count": 3,
   "metadata": {},
   "outputs": [],
   "source": [
    "for i in range(len(vocab)):\n",
    "    if vocab[i][0] == 'M':\n",
    "        #print(vocab[i])\n",
    "        vocab_m.extend([vocab[i]])\n",
    "        m_prob.extend([uni_prob[i]])\n",
    "        "
   ]
  },
  {
   "cell_type": "code",
   "execution_count": 4,
   "metadata": {},
   "outputs": [
    {
     "name": "stdout",
     "output_type": "stream",
     "text": [
      "Token:  MILLION       Uni-Prob:  0.002073\n",
      "Token:  MORE       Uni-Prob:  0.001709\n",
      "Token:  MR.       Uni-Prob:  0.001442\n",
      "Token:  MOST       Uni-Prob:  0.000788\n",
      "Token:  MARKET       Uni-Prob:  0.00078\n",
      "Token:  MAY       Uni-Prob:  0.00073\n",
      "Token:  M.       Uni-Prob:  0.000703\n",
      "Token:  MANY       Uni-Prob:  0.000697\n",
      "Token:  MADE       Uni-Prob:  0.00056\n",
      "Token:  MUCH       Uni-Prob:  0.000515\n",
      "Token:  MAKE       Uni-Prob:  0.000514\n",
      "Token:  MONTH       Uni-Prob:  0.000445\n",
      "Token:  MONEY       Uni-Prob:  0.000437\n",
      "Token:  MONTHS       Uni-Prob:  0.000406\n",
      "Token:  MY       Uni-Prob:  0.0004\n",
      "Token:  MONDAY       Uni-Prob:  0.000382\n",
      "Token:  MAJOR       Uni-Prob:  0.000371\n",
      "Token:  MILITARY       Uni-Prob:  0.000352\n",
      "Token:  MEMBERS       Uni-Prob:  0.000336\n",
      "Token:  MIGHT       Uni-Prob:  0.000274\n",
      "Token:  MEETING       Uni-Prob:  0.000266\n",
      "Token:  MUST       Uni-Prob:  0.000267\n",
      "Token:  ME       Uni-Prob:  0.000264\n",
      "Token:  MARCH       Uni-Prob:  0.00026\n",
      "Token:  MAN       Uni-Prob:  0.000253\n",
      "Token:  MS.       Uni-Prob:  0.000239\n",
      "Token:  MINISTER       Uni-Prob:  0.00024\n",
      "Token:  MAKING       Uni-Prob:  0.000212\n",
      "Token:  MOVE       Uni-Prob:  0.00021\n",
      "Token:  MILES       Uni-Prob:  0.000206\n"
     ]
    }
   ],
   "source": [
    "for i in range(len(vocab_m)):\n",
    "    print('Token: ',vocab_m[i],'      Uni-Prob: ',np.round(m_prob[i],6))"
   ]
  },
  {
   "cell_type": "markdown",
   "metadata": {},
   "source": [
    "# BIGRAM"
   ]
  },
  {
   "cell_type": "code",
   "execution_count": 5,
   "metadata": {},
   "outputs": [],
   "source": [
    "bi_count = np.loadtxt('./hw4_bigram.txt',dtype = float)"
   ]
  },
  {
   "cell_type": "code",
   "execution_count": 6,
   "metadata": {},
   "outputs": [],
   "source": [
    "bigram_the = bi_count[bi_count[:,0]==4]    "
   ]
  },
  {
   "cell_type": "code",
   "execution_count": 7,
   "metadata": {},
   "outputs": [
    {
     "data": {
      "text/plain": [
       "3855375.0"
      ]
     },
     "execution_count": 7,
     "metadata": {},
     "output_type": "execute_result"
    }
   ],
   "source": [
    "THE_count = uni_count[3]\n",
    "THE_count"
   ]
  },
  {
   "cell_type": "code",
   "execution_count": 11,
   "metadata": {},
   "outputs": [
    {
     "data": {
      "text/plain": [
       "array([[   4.,  270.,    1.],\n",
       "       [   4.,  140.,    1.],\n",
       "       [   4.,  145.,    1.],\n",
       "       [   4.,  139.,    1.],\n",
       "       [   4.,  150.,    1.],\n",
       "       [   4.,  157.,    1.],\n",
       "       [   4.,  120.,    1.],\n",
       "       [   4.,  164.,    1.],\n",
       "       [   4.,  386.,    1.],\n",
       "       [   4.,   44.,    1.],\n",
       "       [   4.,  358.,    1.],\n",
       "       [   4.,  195.,    1.],\n",
       "       [   4.,   37.,    1.],\n",
       "       [   4.,  200.,    1.],\n",
       "       [   4.,  109.,    1.],\n",
       "       [   4.,  301.,    1.],\n",
       "       [   4.,  343.,    1.],\n",
       "       [   4.,  470.,    1.],\n",
       "       [   4.,  318.,    1.],\n",
       "       [   4.,   93.,    1.]])"
      ]
     },
     "execution_count": 11,
     "metadata": {},
     "output_type": "execute_result"
    }
   ],
   "source": [
    "sorted_bigram_the[::-1][:20]"
   ]
  },
  {
   "cell_type": "code",
   "execution_count": 10,
   "metadata": {},
   "outputs": [],
   "source": [
    "sorted_bigram_the = bigram_the[bigram_the[:,2].argsort()[::-1]]\n",
    "bigram_top_10 = sorted_bigram_the[:10]\n",
    "top_10_vocab_index = np.subtract(bigram_top_10[:,1].astype(int),np.ones(10)) \n",
    "# gives us the index of the word in the 'vocab' array\n",
    "top_10_words = top_10_words = vocab[top_10_vocab_index.astype(int)]\n",
    "top_10_counts = bigram_top_10[:,2]\n",
    "top_10_prob   = top_10_counts/THE_count\n"
   ]
  },
  {
   "cell_type": "code",
   "execution_count": 12,
   "metadata": {},
   "outputs": [
    {
     "data": {
      "text/html": [
       "<div>\n",
       "<style scoped>\n",
       "    .dataframe tbody tr th:only-of-type {\n",
       "        vertical-align: middle;\n",
       "    }\n",
       "\n",
       "    .dataframe tbody tr th {\n",
       "        vertical-align: top;\n",
       "    }\n",
       "\n",
       "    .dataframe thead th {\n",
       "        text-align: right;\n",
       "    }\n",
       "</style>\n",
       "<table border=\"1\" class=\"dataframe\">\n",
       "  <thead>\n",
       "    <tr style=\"text-align: right;\">\n",
       "      <th></th>\n",
       "      <th>words</th>\n",
       "      <th>probability</th>\n",
       "    </tr>\n",
       "  </thead>\n",
       "  <tbody>\n",
       "    <tr>\n",
       "      <th>0</th>\n",
       "      <td>&lt;UNK&gt;</td>\n",
       "      <td>0.615020</td>\n",
       "    </tr>\n",
       "    <tr>\n",
       "      <th>1</th>\n",
       "      <td>U.</td>\n",
       "      <td>0.013372</td>\n",
       "    </tr>\n",
       "    <tr>\n",
       "      <th>2</th>\n",
       "      <td>FIRST</td>\n",
       "      <td>0.011720</td>\n",
       "    </tr>\n",
       "    <tr>\n",
       "      <th>3</th>\n",
       "      <td>COMPANY</td>\n",
       "      <td>0.011659</td>\n",
       "    </tr>\n",
       "    <tr>\n",
       "      <th>4</th>\n",
       "      <td>NEW</td>\n",
       "      <td>0.009451</td>\n",
       "    </tr>\n",
       "    <tr>\n",
       "      <th>5</th>\n",
       "      <td>UNITED</td>\n",
       "      <td>0.008672</td>\n",
       "    </tr>\n",
       "    <tr>\n",
       "      <th>6</th>\n",
       "      <td>GOVERNMENT</td>\n",
       "      <td>0.006803</td>\n",
       "    </tr>\n",
       "    <tr>\n",
       "      <th>7</th>\n",
       "      <td>NINETEEN</td>\n",
       "      <td>0.006651</td>\n",
       "    </tr>\n",
       "    <tr>\n",
       "      <th>8</th>\n",
       "      <td>SAME</td>\n",
       "      <td>0.006287</td>\n",
       "    </tr>\n",
       "    <tr>\n",
       "      <th>9</th>\n",
       "      <td>TWO</td>\n",
       "      <td>0.006161</td>\n",
       "    </tr>\n",
       "  </tbody>\n",
       "</table>\n",
       "</div>"
      ],
      "text/plain": [
       "        words  probability\n",
       "0       <UNK>     0.615020\n",
       "1          U.     0.013372\n",
       "2       FIRST     0.011720\n",
       "3     COMPANY     0.011659\n",
       "4         NEW     0.009451\n",
       "5      UNITED     0.008672\n",
       "6  GOVERNMENT     0.006803\n",
       "7    NINETEEN     0.006651\n",
       "8        SAME     0.006287\n",
       "9         TWO     0.006161"
      ]
     },
     "execution_count": 12,
     "metadata": {},
     "output_type": "execute_result"
    }
   ],
   "source": [
    "import pandas as pd\n",
    "probs = {'words': top_10_words,'probability': top_10_prob}\n",
    "\n",
    "pd.DataFrame(data = probs)"
   ]
  },
  {
   "cell_type": "markdown",
   "metadata": {},
   "source": [
    "## The stock market fell by one hundred points last week ##"
   ]
  },
  {
   "cell_type": "code",
   "execution_count": 13,
   "metadata": {},
   "outputs": [
    {
     "data": {
      "text/plain": [
       "['THE',\n",
       " 'STOCK',\n",
       " 'MARKET',\n",
       " 'FELL',\n",
       " 'BY',\n",
       " 'ONE',\n",
       " 'HUNDRED',\n",
       " 'POINTS',\n",
       " 'LAST',\n",
       " 'WEEK']"
      ]
     },
     "execution_count": 13,
     "metadata": {},
     "output_type": "execute_result"
    }
   ],
   "source": [
    "######### UNIGRAM ############\n",
    "string = 'THE STOCK MARKET FELL BY ONE HUNDRED POINTS LAST WEEK'\n",
    "sentence = string.split(' ')\n",
    "sentence"
   ]
  },
  {
   "cell_type": "code",
   "execution_count": 14,
   "metadata": {},
   "outputs": [],
   "source": [
    "total = uni_count.sum()\n",
    "uni_prob = uni_count/total\n",
    "\n",
    "vocab_ind = []\n",
    "word_prob = []\n",
    "word_count = []\n",
    "cummu_prob = []\n",
    "for i in range(len(sentence)):\n",
    "    vocab_ind.extend([np.where(vocab==sentence[i])])\n",
    "    \n",
    "    prob = uni_prob[vocab_ind[i]][0]\n",
    "    word_prob.extend([prob])\n",
    "    word_count.extend([])\n",
    "    if i == 0:\n",
    "        cummu_prob.extend([word_prob[i]])\n",
    "    else:\n",
    "        cummu_prob.extend([cummu_prob[i-1]*word_prob[i]])"
   ]
  },
  {
   "cell_type": "code",
   "execution_count": 15,
   "metadata": {},
   "outputs": [
    {
     "name": "stdout",
     "output_type": "stream",
     "text": [
      "log cummulative probabilty:  -64.5094403436\n"
     ]
    }
   ],
   "source": [
    "print('log cummulative probabilty: ',np.log(cummu_prob[-1]))\n"
   ]
  },
  {
   "cell_type": "code",
   "execution_count": 16,
   "metadata": {},
   "outputs": [
    {
     "data": {
      "text/plain": [
       "3.1395999999999996e-05"
      ]
     },
     "execution_count": 16,
     "metadata": {},
     "output_type": "execute_result"
    }
   ],
   "source": [
    ".047*.000668"
   ]
  },
  {
   "cell_type": "code",
   "execution_count": 17,
   "metadata": {},
   "outputs": [
    {
     "data": {
      "text/html": [
       "<div>\n",
       "<style scoped>\n",
       "    .dataframe tbody tr th:only-of-type {\n",
       "        vertical-align: middle;\n",
       "    }\n",
       "\n",
       "    .dataframe tbody tr th {\n",
       "        vertical-align: top;\n",
       "    }\n",
       "\n",
       "    .dataframe thead th {\n",
       "        text-align: right;\n",
       "    }\n",
       "</style>\n",
       "<table border=\"1\" class=\"dataframe\">\n",
       "  <thead>\n",
       "    <tr style=\"text-align: right;\">\n",
       "      <th></th>\n",
       "      <th>word</th>\n",
       "      <th>prob</th>\n",
       "    </tr>\n",
       "  </thead>\n",
       "  <tbody>\n",
       "    <tr>\n",
       "      <th>0</th>\n",
       "      <td>THE</td>\n",
       "      <td>0.047152</td>\n",
       "    </tr>\n",
       "    <tr>\n",
       "      <th>1</th>\n",
       "      <td>STOCK</td>\n",
       "      <td>0.000668</td>\n",
       "    </tr>\n",
       "    <tr>\n",
       "      <th>2</th>\n",
       "      <td>MARKET</td>\n",
       "      <td>0.000780</td>\n",
       "    </tr>\n",
       "    <tr>\n",
       "      <th>3</th>\n",
       "      <td>FELL</td>\n",
       "      <td>0.000265</td>\n",
       "    </tr>\n",
       "    <tr>\n",
       "      <th>4</th>\n",
       "      <td>BY</td>\n",
       "      <td>0.004180</td>\n",
       "    </tr>\n",
       "    <tr>\n",
       "      <th>5</th>\n",
       "      <td>ONE</td>\n",
       "      <td>0.006006</td>\n",
       "    </tr>\n",
       "    <tr>\n",
       "      <th>6</th>\n",
       "      <td>HUNDRED</td>\n",
       "      <td>0.004021</td>\n",
       "    </tr>\n",
       "    <tr>\n",
       "      <th>7</th>\n",
       "      <td>POINTS</td>\n",
       "      <td>0.000221</td>\n",
       "    </tr>\n",
       "    <tr>\n",
       "      <th>8</th>\n",
       "      <td>LAST</td>\n",
       "      <td>0.001161</td>\n",
       "    </tr>\n",
       "    <tr>\n",
       "      <th>9</th>\n",
       "      <td>WEEK</td>\n",
       "      <td>0.000572</td>\n",
       "    </tr>\n",
       "  </tbody>\n",
       "</table>\n",
       "</div>"
      ],
      "text/plain": [
       "      word      prob\n",
       "0      THE  0.047152\n",
       "1    STOCK  0.000668\n",
       "2   MARKET  0.000780\n",
       "3     FELL  0.000265\n",
       "4       BY  0.004180\n",
       "5      ONE  0.006006\n",
       "6  HUNDRED  0.004021\n",
       "7   POINTS  0.000221\n",
       "8     LAST  0.001161\n",
       "9     WEEK  0.000572"
      ]
     },
     "execution_count": 17,
     "metadata": {},
     "output_type": "execute_result"
    }
   ],
   "source": [
    "prob_dict = {'prob': word_prob,'word': sentence} \n",
    "pd.DataFrame(columns = ['word','prob'], data = prob_dict)"
   ]
  },
  {
   "cell_type": "code",
   "execution_count": 18,
   "metadata": {},
   "outputs": [
    {
     "name": "stdout",
     "output_type": "stream",
     "text": [
      "log likelihood: [-40.91813213]\n"
     ]
    }
   ],
   "source": [
    "########## BIGRAM APPROACH ###############\n",
    "string = '<s> THE STOCK MARKET FELL BY ONE HUNDRED POINTS LAST WEEK'\n",
    "sentence = string.split(' ')\n",
    "sentence\n",
    "\n",
    "\n",
    "vocab_ind = []\n",
    "bigram_num = [] #equals the vocab index +1\n",
    "bigram_count = []\n",
    "bigram_prob  = []\n",
    "word_count = []\n",
    "cummu_prob = []\n",
    "\n",
    "\n",
    "# first pass start loggin word indexes and total occurances\n",
    "\n",
    "for i in range(len(sentence)):\n",
    "    \n",
    "    vocab_ind.extend([np.where(vocab==sentence[i])])\n",
    "    bigram_num.extend([vocab_ind[i][0]+1])\n",
    "    word_count.extend([uni_count[vocab_ind[i][0]]])\n",
    "    \n",
    "for i in range(len(sentence)-1):\n",
    "    \n",
    "    parent = bigram_num[i][0]\n",
    "    child  = bigram_num[i+1][0]\n",
    "    cond_count = bi_count[(bi_count[:,0] == parent) & (bi_count[:,1]==child)][0][-1]\n",
    "    bigram_count.extend([cond_count])\n",
    "    bigram_prob.extend([cond_count/word_count[i]])\n",
    "    if i == 0:\n",
    "        cummu_prob.extend([bigram_prob[i]])\n",
    "    else:\n",
    "        cummu_prob.extend([cummu_prob[i-1]*bigram_prob[i]])\n",
    "\n",
    "\n",
    "print('log likelihood:',np.log(cummu_prob[-1]))\n",
    "\n"
   ]
  },
  {
   "cell_type": "markdown",
   "metadata": {},
   "source": [
    "## “The sixteen officials sold fire insurance\""
   ]
  },
  {
   "cell_type": "markdown",
   "metadata": {},
   "source": [
    "#### UNIGRAM ####"
   ]
  },
  {
   "cell_type": "code",
   "execution_count": 19,
   "metadata": {},
   "outputs": [
    {
     "name": "stdout",
     "output_type": "stream",
     "text": [
      "log likelihood: -44.2919344731\n"
     ]
    }
   ],
   "source": [
    "######### UNIGRAM ############\n",
    "string = 'THE SIXTEEN OFFICIALS SOLD FIRE INSURANCE'\n",
    "sentence = string.split(' ')\n",
    "sentence\n",
    "\n",
    "total = uni_count.sum()\n",
    "uni_prob = uni_count/total\n",
    "\n",
    "vocab_ind = []\n",
    "word_prob = []\n",
    "word_count = []\n",
    "cummu_prob = []\n",
    "for i in range(len(sentence)):\n",
    "    vocab_ind.extend([np.where(vocab==sentence[i])])\n",
    "    \n",
    "    prob = uni_prob[vocab_ind[i]][0]\n",
    "    word_prob.extend([prob])\n",
    "    word_count.extend([])\n",
    "    if i == 0:\n",
    "        cummu_prob.extend([word_prob[i]])\n",
    "    else:\n",
    "        cummu_prob.extend([cummu_prob[i-1]*word_prob[i]])\n",
    "        \n",
    "print('log likelihood:',np.log(cummu_prob[-1]))"
   ]
  },
  {
   "cell_type": "markdown",
   "metadata": {},
   "source": [
    "#### BIGRAM ####"
   ]
  },
  {
   "cell_type": "code",
   "execution_count": 20,
   "metadata": {},
   "outputs": [
    {
     "name": "stdout",
     "output_type": "stream",
     "text": [
      "log likelihood: [-inf]\n"
     ]
    },
    {
     "name": "stderr",
     "output_type": "stream",
     "text": [
      "C:\\Users\\Steve\\Anaconda2\\envs\\PyStorch\\lib\\site-packages\\ipykernel_launcher.py:49: RuntimeWarning: divide by zero encountered in log\n"
     ]
    }
   ],
   "source": [
    "string = '<s> THE SIXTEEN OFFICIALS SOLD FIRE INSURANCE'\n",
    "sentence = string.split(' ')\n",
    "sentence\n",
    "\n",
    "\n",
    "vocab_ind = []\n",
    "bigram_num = [] #equals the vocab index +1\n",
    "bigram_count = []\n",
    "bigram_prob  = []\n",
    "word_count = []\n",
    "cummu_prob = []\n",
    "faulty_pairs = []\n",
    "\n",
    "\n",
    "# first pass start loggin word indexes and total occurances\n",
    "\n",
    "for i in range(len(sentence)):\n",
    "    \n",
    "    vocab_ind.extend([np.where(vocab==sentence[i])])\n",
    "    bigram_num.extend([vocab_ind[i][0]+1])\n",
    "    word_count.extend([uni_count[vocab_ind[i][0]]])\n",
    "    \n",
    "for i in range(len(sentence)-1):\n",
    "    \n",
    "    parent = bigram_num[i][0]\n",
    "    child  = bigram_num[i+1][0]\n",
    "    try:\n",
    "        cond_count = bi_count[(bi_count[:,0] == parent) & (bi_count[:,1]==child)][0][-1]\n",
    "        bigram_count.extend([cond_count])\n",
    "        bigram_prob.extend([cond_count/word_count[i]])\n",
    "        \n",
    "    except:\n",
    "        \n",
    "        # there is no conditional probability, child is independent of the parent, \n",
    "        # calculate unigram probability for the child\n",
    "        \n",
    "        # vocab value for parent, child\n",
    "        faulty_pairs.extend([(vocab[vocab_ind[i]][0],vocab[vocab_ind[i+1]][0])]) \n",
    "        cond_count = 0\n",
    "        bigram_count.extend([cond_count])\n",
    "        bigram_prob.extend([cond_count/word_count[i]])\n",
    "        \n",
    "    if i == 0:\n",
    "        cummu_prob.extend([bigram_prob[i]])\n",
    "    else:\n",
    "        cummu_prob.extend([cummu_prob[i-1]*bigram_prob[i]])\n",
    "\n",
    "\n",
    "print('log likelihood:',np.log(cummu_prob[-1]))\n"
   ]
  },
  {
   "cell_type": "code",
   "execution_count": 21,
   "metadata": {},
   "outputs": [
    {
     "data": {
      "text/plain": [
       "[array([ 0.15865263]),\n",
       " array([ 0.00022851]),\n",
       " array([ 0.]),\n",
       " array([  9.16220773e-05]),\n",
       " array([ 0.]),\n",
       " array([ 0.0030524])]"
      ]
     },
     "execution_count": 21,
     "metadata": {},
     "output_type": "execute_result"
    }
   ],
   "source": [
    "bigram_prob"
   ]
  },
  {
   "cell_type": "code",
   "execution_count": 22,
   "metadata": {},
   "outputs": [
    {
     "data": {
      "text/plain": [
       "'SOLD FIRE'"
      ]
     },
     "execution_count": 22,
     "metadata": {},
     "output_type": "execute_result"
    }
   ],
   "source": [
    "#### PAIRS NOTE SEEN ###\n",
    "\n",
    "'SIXTEEN OFFICIALS'\n",
    "'SOLD FIRE'"
   ]
  },
  {
   "cell_type": "markdown",
   "metadata": {},
   "source": [
    "#### MIXTURE MODEL ####"
   ]
  },
  {
   "cell_type": "code",
   "execution_count": 23,
   "metadata": {},
   "outputs": [],
   "source": [
    "# for each model, the probability of each element was tallied in \n",
    "# the word_prob and bigram_prob lists\n",
    "# we will use these while tuning the lambda function\n",
    "uni_prob = word_prob # unigram model P(ith element)\n",
    "bi_prob = bigram_prob # bigram model P(child|parent)\n",
    "lmbda_score = []\n",
    "\n",
    "for lmbda in np.linspace(0,1.001,1000):\n",
    "    prob = 1\n",
    "    for i in range(len(word_prob)):\n",
    "        \n",
    "        prob = prob*(uni_prob[i]*lmbda + (1-lmbda)*bi_prob[i])\n",
    "        \n",
    "    lmbda_score.extend([prob])"
   ]
  },
  {
   "cell_type": "code",
   "execution_count": 24,
   "metadata": {},
   "outputs": [
    {
     "name": "stderr",
     "output_type": "stream",
     "text": [
      "C:\\Users\\Steve\\Anaconda2\\envs\\PyStorch\\lib\\site-packages\\ipykernel_launcher.py:1: RuntimeWarning: divide by zero encountered in log\n",
      "  \"\"\"Entry point for launching an IPython kernel.\n"
     ]
    },
    {
     "data": {
      "image/png": "[encoded data removed]",
      "text/plain": [
       "<Figure size 432x288 with 1 Axes>"
      ]
     },
     "metadata": {
      "needs_background": "light"
     },
     "output_type": "display_data"
    }
   ],
   "source": [
    "\n",
    "lmbda_score = np.log(lmbda_score)\n",
    "lmbda_val   = np.linspace(0,1.001,1000)\n",
    "import matplotlib.pyplot as plt\n",
    "plt.xlabel('lambda')\n",
    "plt.ylabel('log likelihood')\n",
    "plt.plot(np.linspace(0,1.001,1000),lmbda_score)\n",
    "plt.show()"
   ]
  },
  {
   "cell_type": "code",
   "execution_count": 25,
   "metadata": {},
   "outputs": [
    {
     "name": "stdout",
     "output_type": "stream",
     "text": [
      "0.648295295295 -42.9641380717\n"
     ]
    }
   ],
   "source": [
    "np.where(lmbda_score == np.max(lmbda_score))\n",
    "max_lambda = lmbda_val[647]\n",
    "print(max_lambda,np.max(lmbda_score))"
   ]
  },
  {
   "cell_type": "markdown",
   "metadata": {},
   "source": [
    "# 4.4 Stock Market Prediction #"
   ]
  },
  {
   "cell_type": "markdown",
   "metadata": {},
   "source": [
    "## part a ##\n",
    "\n",
    "The model is essentially a time lag model that predicts the value at the next time step to be equivalent to the current time step, as evidenced by the heavy weight on a3. This is a poor model because it essentially admits that it does not know if the price will go up or down, so the safest bet is to predict the same as the previous step in order to minimize the prediction loss.\n"
   ]
  },
  {
   "cell_type": "code",
   "execution_count": 26,
   "metadata": {},
   "outputs": [],
   "source": [
    "nasdaq_train = np.loadtxt('./nasdaq00.txt',dtype = float)\n",
    "nasdaq_test  = np.loadtxt('./nasdaq01.txt',dtype = float)\n",
    "\n",
    "\n",
    "# condition the data\n",
    "nasdaq_train_three_step = []\n",
    "train_y = []\n",
    "for i in range(2,len(nasdaq_train)-1):\n",
    "    nasdaq_train_three_step.append([nasdaq_train[i-2],nasdaq_train[i-1],\\\n",
    "                                    nasdaq_train[i]])\n",
    "    train_y.extend([nasdaq_train[i+1]])\n",
    "\n",
    "train_y = np.array([train_y])\n",
    "\n",
    "nasdaq_test_three_step = []\n",
    "test_y = []\n",
    "for i in range(2,len(nasdaq_test)-1):\n",
    "    nasdaq_test_three_step.append([nasdaq_test[i-2],nasdaq_test[i-1],nasdaq_test[i]])\n",
    "    test_y.extend([nasdaq_test[i+1]])\n",
    "\n",
    "test_y = np.array([test_y])"
   ]
  },
  {
   "cell_type": "code",
   "execution_count": 27,
   "metadata": {},
   "outputs": [
    {
     "name": "stdout",
     "output_type": "stream",
     "text": [
      "[[ 0.03189569]\n",
      " [ 0.01560133]\n",
      " [ 0.95067337]]\n"
     ]
    }
   ],
   "source": [
    "import numpy as np\n",
    "A_inv = np.linalg.pinv(nasdaq_train_three_step)\n",
    "weights = A_inv@train_y.T\n",
    "print(weights[:])"
   ]
  },
  {
   "cell_type": "markdown",
   "metadata": {},
   "source": [
    "### WEIGHTS a1,a2,a3 "
   ]
  },
  {
   "cell_type": "code",
   "execution_count": 28,
   "metadata": {},
   "outputs": [
    {
     "name": "stdout",
     "output_type": "stream",
     "text": [
      "a1 : 0.031896\n",
      "a2 : 0.015601\n",
      "a3 : 0.950673\n"
     ]
    }
   ],
   "source": [
    "for i in range(3):\n",
    "    print('a%i : %f'%(i+1,weights[i]))"
   ]
  },
  {
   "cell_type": "markdown",
   "metadata": {},
   "source": [
    "# Part b"
   ]
  },
  {
   "cell_type": "code",
   "execution_count": 29,
   "metadata": {},
   "outputs": [],
   "source": [
    "# test the data\n",
    "y_pred=[]\n",
    "for i in range(test_y.shape[1]):\n",
    "    pred = nasdaq_test_three_step[i]@weights\n",
    "    y_pred.extend([pred])\n",
    "    \n",
    "# vector form\n",
    "y_pred_tr = nasdaq_train_three_step@weights\n"
   ]
  },
  {
   "cell_type": "code",
   "execution_count": 31,
   "metadata": {},
   "outputs": [
    {
     "data": {
      "image/png": "[encoded data removed]",
      "text/plain": [
       "<Figure size 720x720 with 2 Axes>"
      ]
     },
     "metadata": {
      "needs_background": "light"
     },
     "output_type": "display_data"
    }
   ],
   "source": [
    "plt.figure(figsize=(10,10))\n",
    "plt.subplot(2,1,1)\n",
    "plt.plot(range(train_y.shape[1]),train_y.flatten())\n",
    "plt.plot(range(train_y.shape[1]),nasdaq_train_three_step@weights)\n",
    "plt.legend(['ground truth','prediction'])\n",
    "plt.title('2001 Train Data')\n",
    "\n",
    "plt.subplot(2,1,2)\n",
    "plt.plot(range(test_y.shape[1]),test_y.flatten())\n",
    "plt.plot(range(test_y.shape[1]),y_pred)\n",
    "plt.legend(['ground truth','prediction'])\n",
    "plt.title('2001 Test Data')\n",
    "plt.show()"
   ]
  },
  {
   "cell_type": "markdown",
   "metadata": {},
   "source": [
    "### Mean Squared Error ###"
   ]
  },
  {
   "cell_type": "code",
   "execution_count": 428,
   "metadata": {},
   "outputs": [
    {
     "name": "stdout",
     "output_type": "stream",
     "text": [
      "MSE Test:  2985.1   MSE Train:  13895.86\n"
     ]
    }
   ],
   "source": [
    "squared_error_tr = 0 # tr = train\n",
    "error_tr = 0\n",
    "squared_error_t  =0     # t = test\n",
    "error_t =0\n",
    "for i in range(test_y.shape[1]):\n",
    "    \n",
    "    squared_error_t    += (test_y[0][i]-y_pred[i])**2\n",
    "    error_t            += test_y[0][i]-y_pred[i]\n",
    "    squared_error_tr   += (train_y[0][i]-y_pred_tr[i])**2\n",
    "    error_tr           += train_y[0][i]-y_pred_tr[i]\n",
    "    \n",
    "    \n",
    "mse_t = squared_error_t/test_y.shape[1]\n",
    "mse_tr = squared_error_tr/train_y.shape[1]\n",
    "print('MSE Test: ',np.round(mse_t[0],2),'  MSE Train: ',np.round(mse_tr[0],2))"
   ]
  },
  {
   "cell_type": "markdown",
   "metadata": {},
   "source": [
    "# Recommendation: Don't Use\n",
    "\n",
    "The model is essentially a time lag model that predicts the value at the next time step to be equivalent to the current time step, as evidenced by the heavy weight on a3. This is a poor model because it essentially admits that it does not know if the price will go up or down, so the safest bet is to predict the same as the previous step in order to minimize the prediction loss."
   ]
  },
  {
   "cell_type": "code",
   "execution_count": null,
   "metadata": {},
   "outputs": [],
   "source": []
  },
  {
   "cell_type": "code",
   "execution_count": null,
   "metadata": {},
   "outputs": [],
   "source": []
  }
 ],
 "metadata": {
  "kernelspec": {
   "display_name": "Python 3",
   "language": "python",
   "name": "python3"
  },
  "language_info": {
   "codemirror_mode": {
    "name": "ipython",
    "version": 3
   },
   "file_extension": ".py",
   "mimetype": "text/x-python",
   "name": "python",
   "nbconvert_exporter": "python",
   "pygments_lexer": "ipython3",
   "version": "3.6.10"
  }
 },
 "nbformat": 4,
 "nbformat_minor": 2
}
