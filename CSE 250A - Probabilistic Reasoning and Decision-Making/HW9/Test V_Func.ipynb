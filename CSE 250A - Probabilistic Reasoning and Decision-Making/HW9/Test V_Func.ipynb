{
 "cells": [
  {
   "cell_type": "code",
   "execution_count": 36,
   "metadata": {},
   "outputs": [],
   "source": [
    "import numpy as np\n",
    "Rewards = np.array([[-15,30,25]]).T\n",
    "P_Up = np.array([[.75,.25,0],[.5,.5,0],[0,.75,.25]])\n",
    "P_D  = np.array([[.25,.75,0],[0,.5,.5],[0,.25,.75]])\n",
    "policy = np.array([0,0,1])"
   ]
  },
  {
   "cell_type": "code",
   "execution_count": 37,
   "metadata": {},
   "outputs": [
    {
     "data": {
      "text/plain": [
       "array([[0.75, 0.25, 0.  ],\n",
       "       [0.5 , 0.5 , 0.  ],\n",
       "       [0.  , 0.75, 0.25]])"
      ]
     },
     "execution_count": 37,
     "metadata": {},
     "output_type": "execute_result"
    }
   ],
   "source": [
    "P_Up"
   ]
  },
  {
   "cell_type": "code",
   "execution_count": 38,
   "metadata": {},
   "outputs": [],
   "source": [
    "array_list = [P_Up,P_D]"
   ]
  },
  {
   "cell_type": "code",
   "execution_count": 41,
   "metadata": {},
   "outputs": [],
   "source": [
    "def V(policy,array,rewards,gamma = .666666667):\n",
    "    # built up the matrix\n",
    "    I_pi_mat = np.identity((3))\n",
    "    for j in range(3): # iterate over our rows -> the s values\n",
    "        for i in range(3): # iterate over the columns -> the s' values\n",
    "             I_pi_mat[j,i] -= gamma*array[policy[j]][j,i]\n",
    "    \n",
    "    # solve for V\n",
    "    V_out = np.linalg.solve(I_pi_mat,rewards)\n",
    "    return V_out,I_pi_mat"
   ]
  },
  {
   "cell_type": "code",
   "execution_count": null,
   "metadata": {},
   "outputs": [],
   "source": [
    "def greedy(policy,array,V):\n",
    "    \n",
    "    # build up our action response matrices\n",
    "    Q_S_A = np.zeros((4,81))\n",
    "    for k in range(4):\n",
    "        for j in range(81): # iterate over our rows -> the s values\n",
    "            Q_S_A[k,j] = array[k][j,:]@V[:]\n",
    "    \n",
    "    # find the max values for each dimension\n",
    "    pi_new = np.zeros((81,1)).astype(int)\n",
    "    for i in range(81):\n",
    "        max_loc = np.where(Q_S_A[:,i]==np.max(Q_S_A[:,i]))[0]\n",
    "#         if len(max_loc>1):\n",
    "#             pi_new[i] = random.choice(max_loc) # select a random entry from the possible choices of max\n",
    "#         else:\n",
    "        pi_new[i] = max_loc[0]\n",
    "    \n",
    "    return pi_new.flatten(),Q_S_A"
   ]
  },
  {
   "cell_type": "code",
   "execution_count": 42,
   "metadata": {},
   "outputs": [
    {
     "data": {
      "text/plain": [
       "(array([[-18.        ],\n",
       "        [ 36.        ],\n",
       "        [ 62.00000004]]), array([[ 0.5       , -0.16666667,  0.        ],\n",
       "        [-0.33333333,  0.66666667,  0.        ],\n",
       "        [ 0.        , -0.16666667,  0.5       ]]))"
      ]
     },
     "execution_count": 42,
     "metadata": {},
     "output_type": "execute_result"
    }
   ],
   "source": [
    "V(policy,array_list,Rewards)"
   ]
  },
  {
   "cell_type": "code",
   "execution_count": null,
   "metadata": {},
   "outputs": [],
   "source": []
  },
  {
   "cell_type": "code",
   "execution_count": 43,
   "metadata": {},
   "outputs": [],
   "source": [
    "import numpy as np\n",
    "import math\n",
    "import random\n",
    "\n",
    "f = open('prob_a1.txt','r')\n",
    "p_a1 = f.read().splitlines()\n",
    "f = open('prob_a2.txt','r')\n",
    "p_a2 = f.read().splitlines()\n",
    "f = open('prob_a3.txt','r')\n",
    "p_a3 = f.read().splitlines()\n",
    "f = open('prob_a4.txt','r')\n",
    "p_a4 = f.read().splitlines()\n",
    "f = open('rewards.txt','r')\n",
    "rewards = f.read().splitlines()\n",
    "rewards = [int(i) for i in rewards]\n",
    "rewards = np.array([rewards]).T"
   ]
  },
  {
   "cell_type": "code",
   "execution_count": 45,
   "metadata": {},
   "outputs": [],
   "source": [
    "p_a1_array = np.zeros((81,81))\n",
    "p_a2_array = np.zeros((81,81))\n",
    "p_a3_array = np.zeros((81,81))\n",
    "p_a4_array = np.zeros((81,81))"
   ]
  },
  {
   "cell_type": "code",
   "execution_count": 46,
   "metadata": {},
   "outputs": [],
   "source": [
    "data_list = [p_a1,p_a2,p_a3,p_a4]\n",
    "array_list = [p_a1_array,p_a2_array,p_a3_array,p_a4_array]\n",
    "\n",
    "# rows are for s\n",
    "# columns are for s'\n",
    "for j in range(4):\n",
    "    for i in range(len(data_list[j])):\n",
    "        col = int(data_list[j][i].split(' ')[0]) # columns are the s' values\n",
    "        row = int(data_list[j][i].split(' ')[2]) # rows are the s values\n",
    "        prob = float(data_list[j][i].split(' ')[4]) # probability\n",
    "        array_list[j][row-1,col-1] = prob"
   ]
  },
  {
   "cell_type": "code",
   "execution_count": 50,
   "metadata": {
    "scrolled": false
   },
   "outputs": [
    {
     "name": "stdout",
     "output_type": "stream",
     "text": [
      "[[1.    0.    0.    0.    0.    0.    0.    0.    0.    0.    0.    0.   ]\n",
      " [0.    1.    0.    0.    0.    0.    0.    0.    0.    0.    0.    0.   ]\n",
      " [0.    0.    0.975 0.    0.    0.    0.    0.    0.    0.    0.    0.925]\n",
      " [0.    0.    0.    1.    0.    0.    0.    0.    0.    0.    0.    0.   ]\n",
      " [0.    0.    0.    0.    1.    0.    0.    0.    0.    0.    0.    0.   ]\n",
      " [0.    0.    0.    0.    0.    1.    0.    0.    0.    0.    0.    0.   ]\n",
      " [0.    0.    0.    0.    0.    0.    1.    0.    0.    0.    0.    0.   ]\n",
      " [0.    0.    0.    0.    0.    0.    0.    1.    0.    0.    0.    0.   ]\n",
      " [0.    0.    0.    0.    0.    0.    0.    0.    1.    0.    0.    0.   ]\n",
      " [0.    0.    0.    0.    0.    0.    0.    0.    0.    1.    0.    0.   ]\n",
      " [0.    0.    0.    0.    0.    0.    0.    0.    0.    0.    0.95  0.025]\n",
      " [0.    0.    0.025 0.    0.    0.    0.    0.    0.    0.    0.025 0.05 ]]\n"
     ]
    },
    {
     "data": {
      "text/plain": [
       "(['1  1  1',\n",
       "  '2  2  1',\n",
       "  '3  3  0.975',\n",
       "  '12  3  0.925',\n",
       "  '4  4  1',\n",
       "  '5  5  1',\n",
       "  '6  6  1',\n",
       "  '7  7  1',\n",
       "  '8  8  1',\n",
       "  '9  9  1'],\n",
       " None)"
      ]
     },
     "execution_count": 50,
     "metadata": {},
     "output_type": "execute_result"
    }
   ],
   "source": [
    "p_a1[:10],print(array_list[0][:12,:12])"
   ]
  },
  {
   "cell_type": "code",
   "execution_count": 51,
   "metadata": {},
   "outputs": [],
   "source": [
    "### OTHER TEST ####"
   ]
  },
  {
   "cell_type": "code",
   "execution_count": null,
   "metadata": {},
   "outputs": [],
   "source": [
    "pi_mat[2,2],1-gamma*array_list[policy[2]][2,2],gamma*array_list[policy[2]][2,2]"
   ]
  },
  {
   "cell_type": "code",
   "execution_count": null,
   "metadata": {},
   "outputs": [],
   "source": [
    "policy,Q = greedy(policy,array_list,Velo)"
   ]
  },
  {
   "cell_type": "code",
   "execution_count": null,
   "metadata": {},
   "outputs": [],
   "source": [
    "## GREEDY POLICY ## UNIT TESTS\n",
    "x = array_list[0][2,:]@Velo[:],array_list[1][2,:]@Velo[:],array_list[2][2,:]@Velo[:],array_list[3][2,:]@Velo[:]"
   ]
  }
 ],
 "metadata": {
  "kernelspec": {
   "display_name": "Python 3",
   "language": "python",
   "name": "python3"
  },
  "language_info": {
   "codemirror_mode": {
    "name": "ipython",
    "version": 3
   },
   "file_extension": ".py",
   "mimetype": "text/x-python",
   "name": "python",
   "nbconvert_exporter": "python",
   "pygments_lexer": "ipython3",
   "version": "3.6.10"
  }
 },
 "nbformat": 4,
 "nbformat_minor": 2
}
