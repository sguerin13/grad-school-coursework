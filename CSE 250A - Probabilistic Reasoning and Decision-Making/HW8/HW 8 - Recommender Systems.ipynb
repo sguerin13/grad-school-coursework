{
 "cells": [
  {
   "cell_type": "code",
   "execution_count": 18,
   "metadata": {},
   "outputs": [],
   "source": [
    "import numpy as np\n",
    "import math\n",
    "\n",
    "f = open('hw8_movies.txt','r')\n",
    "movie_names = f.read().splitlines()\n",
    "\n",
    "f = open('hw8_ids.txt','r')\n",
    "ids = f.read().splitlines()\n",
    "\n",
    "f = open('hw8_ratings.txt','r')\n",
    "ratings = f.read().splitlines()\n",
    "ratings = np.genfromtxt('hw8_ratings.txt',missing_values = '?')\n",
    "#create a mask for the ratings\n",
    "ratings_mask = np.ones(ratings.shape)\n",
    "ratings_mask[np.where(np.isnan(ratings))] = 0"
   ]
  },
  {
   "cell_type": "code",
   "execution_count": 19,
   "metadata": {},
   "outputs": [
    {
     "data": {
      "text/plain": [
       "(258, 76)"
      ]
     },
     "execution_count": 19,
     "metadata": {},
     "output_type": "execute_result"
    }
   ],
   "source": [
    "ratings.shape"
   ]
  },
  {
   "cell_type": "markdown",
   "metadata": {},
   "source": [
    "#### 8.1"
   ]
  },
  {
   "cell_type": "markdown",
   "metadata": {},
   "source": [
    "A)"
   ]
  },
  {
   "cell_type": "code",
   "execution_count": 20,
   "metadata": {},
   "outputs": [],
   "source": [
    "mean_ratings = np.zeros((ratings.shape[1],1))\n",
    "for j in range(ratings.shape[1]):\n",
    "    observed = np.where(ratings_mask[:,j]==1)\n",
    "    mean_ratings[j] = np.mean(ratings[observed,j])"
   ]
  },
  {
   "cell_type": "code",
   "execution_count": 21,
   "metadata": {},
   "outputs": [],
   "source": [
    "movies_n_ratings = zip(movie_names,mean_ratings)\n",
    "sort_ratings = sorted(movies_n_ratings, key = lambda y:y[1])[::-1]"
   ]
  },
  {
   "cell_type": "code",
   "execution_count": 22,
   "metadata": {},
   "outputs": [
    {
     "name": "stdout",
     "output_type": "stream",
     "text": [
      "Inception 0.986\n",
      "Interstellar 0.935\n",
      "Three_Billboards_Outside_Ebbing 0.908\n",
      "Django_Unchained 0.904\n",
      "The_Martian 0.901\n",
      "The_Dark_Knight_Rises 0.901\n",
      "The_Theory_of_Everything 0.896\n",
      "Black_Swan 0.891\n",
      "Shutter_Island 0.879\n",
      "Hidden_Figures 0.875\n",
      "Avengers:_Infinity_War 0.869\n",
      "The_Help 0.867\n",
      "12_Years_a_Slave 0.863\n",
      "The_Avengers 0.86\n",
      "Ready_Player_One 0.857\n",
      "Avengers:_Endgame 0.851\n",
      "Les_Miserables 0.847\n",
      "Parasite 0.845\n",
      "The_Girls_with_the_Dragon_Tattoo 0.839\n",
      "Now_You_See_Me 0.838\n",
      "Joker 0.833\n",
      "The_Lion_King 0.831\n",
      "The_Social_Network 0.824\n",
      "Gone_Girl 0.821\n",
      "Harry_Potter_and_the_Deathly_Hallows:_Part_2 0.819\n",
      "Wolf_of_Wall_Street 0.814\n",
      "Room 0.81\n",
      "Harry_Potter_and_the_Deathly_Hallows:_Part_1 0.804\n",
      "Iron_Man_2 0.802\n",
      "21_Jump_Street 0.795\n",
      "Spiderman:_Far_From_Home 0.795\n",
      "Ex_Machina 0.791\n",
      "Her 0.791\n",
      "La_La_Land 0.783\n",
      "Frozen 0.776\n",
      "Drive 0.775\n",
      "X-Men:_First_Class 0.773\n",
      "Midnight_in_Paris 0.769\n",
      "Captain_America:_The_First_Avenger 0.765\n",
      "Toy_Story_3 0.763\n",
      "Darkest_Hour 0.761\n",
      "Dunkirk 0.745\n",
      "The_Great_Gatsby 0.741\n",
      "The_Hateful_Eight 0.738\n",
      "The_Revenant 0.734\n",
      "The_Perks_of_Being_a_Wallflower 0.731\n",
      "Thor 0.726\n",
      "Terminator:_Dark_Fate 0.723\n",
      "Good_Boys 0.714\n",
      "Chappaquidick 0.706\n",
      "The_Farewell 0.7\n",
      "Bridemaids 0.7\n",
      "Us 0.698\n",
      "Mad_Max:_Fury_Road 0.694\n",
      "Rocketman 0.69\n",
      "Avengers:_Age_of_Ultron 0.688\n",
      "Manchester_by_the_Sea 0.681\n",
      "The_Hunger_Games 0.672\n",
      "Phantom_Thread 0.667\n",
      "Pokemon_Detective_Pikachu 0.664\n",
      "Star_Wars:_The_Force_Awakens 0.66\n",
      "Fast_&_Furious:_Hobbs_&_Shaw 0.655\n",
      "Pitch_Perfect 0.643\n",
      "Once_Upon_a_Time_in_Hollywood 0.629\n",
      "Jurassic_World 0.629\n",
      "American_Hustle 0.627\n",
      "Fast_Five 0.625\n",
      "Prometheus 0.584\n",
      "Hustlers 0.565\n",
      "World_War_Z 0.562\n",
      "The_Shape_of_Water 0.562\n",
      "Man_of_Steel 0.526\n",
      "Magic_Mike 0.429\n",
      "I_Feel_Pretty 0.381\n",
      "Fifty_Shades_of_Grey 0.36\n",
      "The_Last_Airbender 0.211\n"
     ]
    }
   ],
   "source": [
    "for elem in sort_ratings:\n",
    "    print(elem[0],np.round(elem[1],3)[0])"
   ]
  },
  {
   "cell_type": "code",
   "execution_count": 23,
   "metadata": {},
   "outputs": [],
   "source": [
    "k = 4\n",
    "num_iter = 256\n",
    "z_init = np.genfromtxt('hw8_probZ_init.txt')\n",
    "R_init = np.genfromtxt('hw8_probR_init.txt')\n",
    "P_R = R_init # P(R|Z=zi)\n",
    "P_Z = z_init\n",
    "\n",
    "# columns of ratings refer to each movie\n",
    "# rows are each students\n",
    "\n",
    "T = ratings.shape[0]\n",
    "T\n",
    "t= 5\n",
    "omega_t = np.where(ratings_mask[t,:]==1)\n",
    "t_data  = ratings[t,omega_t].flatten()\n",
    "P_R_Z = P_R[omega_t,3].flatten()"
   ]
  },
  {
   "cell_type": "code",
   "execution_count": 24,
   "metadata": {},
   "outputs": [
    {
     "data": {
      "text/plain": [
       "(76, 4)"
      ]
     },
     "execution_count": 24,
     "metadata": {},
     "output_type": "execute_result"
    }
   ],
   "source": [
    "P_R.shape"
   ]
  },
  {
   "cell_type": "code",
   "execution_count": 25,
   "metadata": {},
   "outputs": [],
   "source": [
    "def calc_likelihood(ratings,ratings_mask,P_R,P_Z):\n",
    "    L = 0\n",
    "    \n",
    "    for t in range(T):\n",
    "        # provides the indices of the t_th students movies\n",
    "        # that they have watched\n",
    "        omega_t = np.where(ratings_mask[t,:]==1)\n",
    "        t_data  = ratings[t,omega_t].flatten()\n",
    "        inner_z_sum = 0\n",
    "        #k is each column in P_R - z == k\n",
    "        for i in range(k):\n",
    "            # P(R_j = 1|Z=i) - j in omega_t\n",
    "            P_R_Z = P_R[omega_t,i].flatten()\n",
    "            \n",
    "            inner_prod = P_Z[i] # initialize the product term with the P_Z = i\n",
    "            for j in range(len(P_R_Z)):\n",
    "                \n",
    "                # inside the pi term -> [P(R=1|Z)^R_j]*[1-P(R=1|Z)^(1-R_j)]\n",
    "                Pi_term = (P_R_Z[j]**t_data[j])*((1-P_R_Z[j])**(1-t_data[j]))\n",
    "                inner_prod = inner_prod*Pi_term\n",
    "            \n",
    "            inner_z_sum+= inner_prod\n",
    "        L += math.log(inner_z_sum)\n",
    "    return L/T\n",
    "            \n",
    "                \n",
    "                \n",
    "                \n",
    "                \n",
    "    "
   ]
  },
  {
   "cell_type": "code",
   "execution_count": 26,
   "metadata": {},
   "outputs": [
    {
     "data": {
      "text/plain": [
       "-29.327593818611266"
      ]
     },
     "execution_count": 26,
     "metadata": {},
     "output_type": "execute_result"
    }
   ],
   "source": [
    "calc_likelihood(ratings,ratings_mask,P_R,P_Z)"
   ]
  },
  {
   "cell_type": "code",
   "execution_count": 27,
   "metadata": {},
   "outputs": [],
   "source": [
    "def calc_p_it(ratings,ratings_mask,P_R,P_Z,T,k):\n",
    "    \n",
    "    '''\n",
    "    returns a tx4 array of the p_it values for all t students\n",
    "    \n",
    "    calculates the probability Z = i given the visible ratings \n",
    "    in the t_th students data\n",
    "    \n",
    "    loops:\n",
    "    \n",
    "    over t samples\n",
    "        \n",
    "        over k - z values\n",
    "            \n",
    "            calculate P(Z|R)\n",
    "        \n",
    "        over k - z values\n",
    "            \n",
    "            calculate P(Z|R)/sum(P(Z|R)\n",
    "            \n",
    "            \n",
    "    VARS:\n",
    "    \n",
    "    input:\n",
    "    \n",
    "        ratings: [num_students,num_movies]\n",
    "        P_R    : [num_movies,num_Z] P(R|Z) for each movie for a given z value\n",
    "        P_Z    : [num_z] - probabilities of each of the z_values\n",
    "    \n",
    "    intermediate:\n",
    "        omega_t: gives the index of the visible movie ratings for the t_th student\n",
    "        t_data: the visible rating data for the t_th student\n",
    "        P_Z_R_numerator[num_z] stores the numerator value for P(Z|R) for all Z_i [z1,z2,z3,z4]\n",
    "        numerator: stores intermediate value of the numerator as it loops througha all t entries\n",
    "        P_R_Z: the P(R=1|Z=i) for each set of observed data in t_th students ratings\n",
    "        P_Z_R_denominator\n",
    "        \n",
    "        \n",
    "        \n",
    "    \n",
    "    OUTPUT: p_it[num_students,num_z]\n",
    "    '''\n",
    "\n",
    "\n",
    "    p_it = np.zeros((T,k))\n",
    "    \n",
    "    for t in range(T):\n",
    "        \n",
    "        # provides the indices of the t_th students movies\n",
    "        # that they have watched\n",
    "        omega_t = np.where(ratings_mask[t,:]==1)\n",
    "        t_data  = ratings[t,omega_t].flatten()\n",
    "        P_Z_R_numerator = []\n",
    "        for i in range(k):\n",
    "            \n",
    "            # P(R_j = 1|Z=i) - j in omega_t\n",
    "            P_R_Z = P_R[omega_t,i].flatten()\n",
    "            # initialize the product term with the P_Z = i\n",
    "            numerator = P_Z[i] \n",
    "            for j in range(len(P_R_Z)):\n",
    "                # inside the pi term -> [P(R=1|Z)^R_j]*[1-P(R=1|Z)^(1-R_j)]\n",
    "                Pi_term = (P_R_Z[j]**t_data[j])*((1-P_R_Z[j])**(1-t_data[j]))\n",
    "                numerator = numerator*Pi_term\n",
    "        \n",
    "            P_Z_R_numerator.extend([numerator])\n",
    "            \n",
    "        P_Z_R_denominator = sum(P_Z_R_numerator)\n",
    "        for i in range(k):\n",
    "            p_it[t,i] = P_Z_R_numerator[i]/P_Z_R_denominator\n",
    "\n",
    "    return p_it\n",
    "    "
   ]
  },
  {
   "cell_type": "code",
   "execution_count": 28,
   "metadata": {},
   "outputs": [],
   "source": [
    "def update_routine(ratings,ratings_mask,P_R,P_Z,T,k,p_it):\n",
    "    '''\n",
    "    update the Z_i values\n",
    "    P(Z=i) = 1/T*sum(p_it)\n",
    "    p_it = P(Z|R_j(t)) for all t students\n",
    "    \n",
    "    '''\n",
    "    new_Z = []\n",
    "    for i in range(k):\n",
    "        new_Z.extend([np.sum(p_it[:,i])/T])\n",
    "\n",
    "    ### Calc new P(R|Z) ###\n",
    "    new_P_R_Z = np.zeros(P_R.shape)\n",
    "    for i in range(k): # possible z values\n",
    "        for j in range(ratings.shape[1]): # movies\n",
    "            numerator = 0\n",
    "            denominator = np.sum(p_it[:,i])\n",
    "            for t in range(T): # samples\n",
    "                if ratings[t,j] == 1 or ratings[t,j] == 0:\n",
    "                    if ratings[t,j] == 1:\n",
    "                        numerator += p_it[t,i]\n",
    "                else:\n",
    "                    numerator += p_it[t,i]*P_R[j,i]\n",
    "            \n",
    "            new_P_R_Z[j,i] = numerator/denominator\n",
    "    \n",
    "    return new_Z,new_P_R_Z"
   ]
  },
  {
   "cell_type": "code",
   "execution_count": 30,
   "metadata": {},
   "outputs": [
    {
     "name": "stdout",
     "output_type": "stream",
     "text": [
      "0 :  -29.3276\n",
      "1 :  -18.1393\n",
      "2 :  -16.1713\n",
      "4 :  -14.9416\n",
      "16 :  -13.8581\n",
      "32 :  -13.764\n",
      "64 :  -13.7398\n",
      "128 :  -13.7377\n",
      "256 :  -13.7375\n"
     ]
    }
   ],
   "source": [
    "# main_loop\n",
    "k = 4\n",
    "num_iter = 256\n",
    "z_init = np.genfromtxt('hw8_probZ_init.txt')\n",
    "R_init = np.genfromtxt('hw8_probR_init.txt')\n",
    "P_R = R_init # P(R|Z=zi)\n",
    "P_Z = z_init\n",
    "\n",
    "# columns of ratings refer to each movie\n",
    "# rows are each students\n",
    "\n",
    "T = ratings.shape[0]\n",
    "i_list = [0,1,2,4,16,32,64,128,256]\n",
    "for i in range(num_iter+1):\n",
    "    L = calc_likelihood(ratings,ratings_mask,P_R,P_Z)\n",
    "    if i in i_list:\n",
    "        print(i,': ',np.round(L,4))\n",
    "    \n",
    "    p_it = calc_p_it(ratings,ratings_mask,P_R,P_Z,T,k)\n",
    "    P_Z,P_R = update_routine(ratings,ratings_mask,P_R,P_Z,T,k,p_it)\n",
    "    \n",
    "    "
   ]
  },
  {
   "cell_type": "markdown",
   "metadata": {},
   "source": [
    "F)"
   ]
  },
  {
   "cell_type": "code",
   "execution_count": 40,
   "metadata": {},
   "outputs": [],
   "source": [
    "Steve_Ratings = ratings[239,:]"
   ]
  },
  {
   "cell_type": "code",
   "execution_count": 81,
   "metadata": {},
   "outputs": [],
   "source": [
    "#### CALC P(R_l=1:Rj) ###\n",
    "omega_unseen_steve =np.where(ratings_mask[239,:]==0)\n",
    "pi_steve    = p_it[239,:] # all of the (P=Zi|Rj) [4,0]\n",
    "P_R_unseen  = P_R[omega_unseen_steve[0],:]         #[#,4]\n",
    "P_Rl_True = np.zeros((omega_unseen_steve[0].shape[0],))    #\n",
    "\n",
    "for l in range(omega_unseen_steve[0].shape[0]):\n",
    "    placeholder = 0\n",
    "    for i in range(k):\n",
    "        placeholder = placeholder+(P_R_unseen[l,i]*pi_steve[i])\n",
    "        #print(placeholder)\n",
    "    P_Rl_True[l] = placeholder\n",
    "    \n",
    "unseen_index = omega_unseen_steve[0].tolist()\n",
    "unseen_titles = [movie_names[i] for i in unseen_index]\n",
    "# unseen_movies = movie_names[omega_unseen_steve[0].tolist()] "
   ]
  },
  {
   "cell_type": "code",
   "execution_count": 84,
   "metadata": {},
   "outputs": [
    {
     "data": {
      "text/plain": [
       "[('Hidden_Figures', 0.998303981032741),\n",
       " ('The_Hateful_Eight', 0.9980120121228705),\n",
       " ('The_Farewell', 0.9970826037255528),\n",
       " ('Shutter_Island', 0.9797645631010524),\n",
       " ('The_Martian', 0.9756769589221221),\n",
       " ('Ready_Player_One', 0.9647765979861145),\n",
       " ('Spiderman:_Far_From_Home', 0.9644760566760855),\n",
       " ('12_Years_a_Slave', 0.9637645648109957),\n",
       " ('Drive', 0.9369468323289725),\n",
       " ('The_Help', 0.9367223404048632),\n",
       " ('Her', 0.9308202953145637),\n",
       " ('Gone_Girl', 0.9271705056429871),\n",
       " ('Black_Swan', 0.9191688889373434),\n",
       " ('Les_Miserables', 0.918843465369854),\n",
       " ('The_Theory_of_Everything', 0.9122517072674587),\n",
       " ('Frozen', 0.9075759614806203),\n",
       " ('Joker', 0.8962632590290507),\n",
       " ('Chappaquidick', 0.896013583224202),\n",
       " ('Three_Billboards_Outside_Ebbing', 0.8871603393748463),\n",
       " ('The_Revenant', 0.8812629261923193),\n",
       " ('The_Lion_King', 0.879466607948499),\n",
       " ('La_La_Land', 0.8790273799909772),\n",
       " ('The_Girls_with_the_Dragon_Tattoo', 0.86753897506893),\n",
       " ('X-Men:_First_Class', 0.8578737100415335),\n",
       " ('Captain_America:_The_First_Avenger', 0.8578044952902083),\n",
       " ('Toy_Story_3', 0.855298730430218),\n",
       " ('Parasite', 0.8448450746039802),\n",
       " ('The_Perks_of_Being_a_Wallflower', 0.8431147592269954),\n",
       " ('Rocketman', 0.8410107475400198),\n",
       " ('Darkest_Hour', 0.839647600598656),\n",
       " ('Room', 0.8120840838820568),\n",
       " ('Prometheus', 0.8026488374720365),\n",
       " ('Midnight_in_Paris', 0.8008347052195164),\n",
       " ('Phantom_Thread', 0.7985402779809603),\n",
       " ('Dunkirk', 0.7884289147476901),\n",
       " ('Terminator:_Dark_Fate', 0.7618513363690577),\n",
       " ('The_Hunger_Games', 0.7595692094256604),\n",
       " ('Manchester_by_the_Sea', 0.7567823750207251),\n",
       " ('American_Hustle', 0.7561039060277619),\n",
       " ('Once_Upon_a_Time_in_Hollywood', 0.7323633370680639),\n",
       " ('Pokemon_Detective_Pikachu', 0.7244760066727279),\n",
       " ('Us', 0.7210848102541971),\n",
       " ('Fast_Five', 0.7208587398427697),\n",
       " ('Pitch_Perfect', 0.702502823843539),\n",
       " ('Fast_&_Furious:_Hobbs_&_Shaw', 0.6946950459239757),\n",
       " ('Man_of_Steel', 0.6776764519415481),\n",
       " ('World_War_Z', 0.6462489433961969),\n",
       " ('Hustlers', 0.6356078427518133),\n",
       " ('Good_Boys', 0.6276161021330761),\n",
       " ('The_Shape_of_Water', 0.5747438368720003),\n",
       " ('I_Feel_Pretty', 0.4863924750526966),\n",
       " ('Magic_Mike', 0.4341493149627735),\n",
       " ('Fifty_Shades_of_Grey', 0.4136406697554532),\n",
       " ('The_Last_Airbender', 0.19607041193339328)]"
      ]
     },
     "execution_count": 84,
     "metadata": {},
     "output_type": "execute_result"
    }
   ],
   "source": [
    "sort_ratings"
   ]
  },
  {
   "cell_type": "code",
   "execution_count": 85,
   "metadata": {},
   "outputs": [
    {
     "name": "stdout",
     "output_type": "stream",
     "text": [
      "Hidden_Figures 0.998\n",
      "The_Hateful_Eight 0.998\n",
      "The_Farewell 0.997\n",
      "Shutter_Island 0.98\n",
      "The_Martian 0.976\n",
      "Ready_Player_One 0.965\n",
      "Spiderman:_Far_From_Home 0.964\n",
      "12_Years_a_Slave 0.964\n",
      "Drive 0.937\n",
      "The_Help 0.937\n",
      "Her 0.931\n",
      "Gone_Girl 0.927\n",
      "Black_Swan 0.919\n",
      "Les_Miserables 0.919\n",
      "The_Theory_of_Everything 0.912\n",
      "Frozen 0.908\n",
      "Joker 0.896\n",
      "Chappaquidick 0.896\n",
      "Three_Billboards_Outside_Ebbing 0.887\n",
      "The_Revenant 0.881\n",
      "The_Lion_King 0.879\n",
      "La_La_Land 0.879\n",
      "The_Girls_with_the_Dragon_Tattoo 0.868\n",
      "X-Men:_First_Class 0.858\n",
      "Captain_America:_The_First_Avenger 0.858\n",
      "Toy_Story_3 0.855\n",
      "Parasite 0.845\n",
      "The_Perks_of_Being_a_Wallflower 0.843\n",
      "Rocketman 0.841\n",
      "Darkest_Hour 0.84\n",
      "Room 0.812\n",
      "Prometheus 0.803\n",
      "Midnight_in_Paris 0.801\n",
      "Phantom_Thread 0.799\n",
      "Dunkirk 0.788\n",
      "Terminator:_Dark_Fate 0.762\n",
      "The_Hunger_Games 0.76\n",
      "Manchester_by_the_Sea 0.757\n",
      "American_Hustle 0.756\n",
      "Once_Upon_a_Time_in_Hollywood 0.732\n",
      "Pokemon_Detective_Pikachu 0.724\n",
      "Us 0.721\n",
      "Fast_Five 0.721\n",
      "Pitch_Perfect 0.703\n",
      "Fast_&_Furious:_Hobbs_&_Shaw 0.695\n",
      "Man_of_Steel 0.678\n",
      "World_War_Z 0.646\n",
      "Hustlers 0.636\n",
      "Good_Boys 0.628\n",
      "The_Shape_of_Water 0.575\n",
      "I_Feel_Pretty 0.486\n",
      "Magic_Mike 0.434\n",
      "Fifty_Shades_of_Grey 0.414\n",
      "The_Last_Airbender 0.196\n"
     ]
    }
   ],
   "source": [
    "unseen_n_ratings = zip(unseen_titles,P_Rl_True)\n",
    "sort_ratings = sorted(unseen_n_ratings, key = lambda y:y[1])[::-1]\n",
    "\n",
    "for elem in sort_ratings:\n",
    "    print(elem[0],np.round(elem[1],3))"
   ]
  },
  {
   "cell_type": "code",
   "execution_count": null,
   "metadata": {},
   "outputs": [],
   "source": []
  }
 ],
 "metadata": {
  "kernelspec": {
   "display_name": "Python 3",
   "language": "python",
   "name": "python3"
  },
  "language_info": {
   "codemirror_mode": {
    "name": "ipython",
    "version": 3
   },
   "file_extension": ".py",
   "mimetype": "text/x-python",
   "name": "python",
   "nbconvert_exporter": "python",
   "pygments_lexer": "ipython3",
   "version": "3.6.10"
  }
 },
 "nbformat": 4,
 "nbformat_minor": 2
}
